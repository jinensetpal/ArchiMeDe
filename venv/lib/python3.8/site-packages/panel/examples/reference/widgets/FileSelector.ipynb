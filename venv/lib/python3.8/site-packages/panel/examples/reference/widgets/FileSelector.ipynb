{
 "cells": [
  {
   "cell_type": "code",
   "execution_count": null,
   "metadata": {},
   "outputs": [],
   "source": [
    "import panel as pn\n",
    "pn.extension()"
   ]
  },
  {
   "cell_type": "markdown",
   "metadata": {},
   "source": [
    "The ``FileSelector`` widget allows browsing the filesystem on the server and selecting one or more files in a directory.\n",
    "\n",
    "For more information about listening to widget events and laying out widgets refer to the [widgets user guide](../../user_guide/Widgets.ipynb). Alternatively you can learn how to build GUIs by declaring parameters independently of any specific widgets in the [param user guide](../../user_guide/Param.ipynb). To express interactivity entirely using Javascript without the need for a Python server take a look at the [links user guide](../../user_guide/Param.ipynb).\n",
    "\n",
    "#### Parameters:\n",
    "\n",
    "For layout and styling related parameters see the [customization user guide](../../user_guide/Customization.ipynb).\n",
    "\n",
    "##### Core\n",
    "\n",
    "* **``directory``** (str): The directory to browse (cannot access files above this directory).\n",
    "* **``file_pattern``** (str, default='*'): A glob-like query expression to limit the displayed files.\n",
    "* **``only_files``** (bool, default=False): Whether to only allow selecting files.\n",
    "* **``show_hidden``** (bool, default=False): Whether to show hidden files and directories (starting with a period).\n",
    "* **``value``** (list[str]): A list of file names.\n",
    "\n",
    "##### Display\n",
    "\n",
    "* **``name``** (str): The title of the widget\n",
    "\n",
    "___"
   ]
  },
  {
   "cell_type": "markdown",
   "metadata": {},
   "source": [
    "The ``FileSelector`` widget allows exploring the specified directory on the server's filesystem and any directories contained within it. The widget consists of the navigation bar with a number of buttons and the address bar:\n",
    "\n",
    "* Back (`◀`): Goes to the previous directory\n",
    "* Forward (`▶`): Returns to the last directory after navigating back\n",
    "* Up (`⬆`): Goes one directory up\n",
    "* Address bar: Display the directory to navigate to\n",
    "* Enter (`⬇`): Navigates to the directory in the address bar\n",
    "\n",
    "The actual file selector displays the contents of the current directory, to navigate to a subfolder click on a directory in the file selector and then hit the down arrow (`⬇`) in the navigation bar. Files and folders may be selected by selecting them in the browser on the left and moving them to the right with the arrow buttons:"
   ]
  },
  {
   "cell_type": "code",
   "execution_count": null,
   "metadata": {},
   "outputs": [],
   "source": [
    "files = pn.widgets.FileSelector('~')\n",
    "\n",
    "files"
   ]
  },
  {
   "cell_type": "markdown",
   "metadata": {},
   "source": [
    "To get the currently selected files simply access the `value` parameter:"
   ]
  },
  {
   "cell_type": "code",
   "execution_count": null,
   "metadata": {},
   "outputs": [],
   "source": [
    "files.value"
   ]
  }
 ],
 "metadata": {
  "language_info": {
   "name": "python",
   "pygments_lexer": "ipython3"
  }
 },
 "nbformat": 4,
 "nbformat_minor": 4
}
