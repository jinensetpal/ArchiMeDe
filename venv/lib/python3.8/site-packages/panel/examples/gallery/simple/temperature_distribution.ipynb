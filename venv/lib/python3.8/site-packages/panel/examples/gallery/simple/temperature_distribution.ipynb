{
 "cells": [
  {
   "cell_type": "code",
   "execution_count": null,
   "metadata": {},
   "outputs": [],
   "source": [
    "import hvplot.pandas\n",
    "import panel as pn\n",
    "import holoviews as hv\n",
    "\n",
    "from bokeh.sampledata.sea_surface_temperature import sea_surface_temperature\n",
    "\n",
    "pn.extension()"
   ]
  },
  {
   "cell_type": "markdown",
   "metadata": {},
   "source": [
    "This example demonstrates how to put widgets together to build a simple UI for exploring the distribution of sea surface temperatures, as follows:\n",
    "\n",
    "- Declare the various widgets\n",
    "- Declare a function that is decorated with the `pn.depends` to express the dependencies on the widget values\n",
    "- Define a callback that pops up the bandwidth slider to control the kernel density estimate (if it has been enabled)."
   ]
  },
  {
   "cell_type": "code",
   "execution_count": null,
   "metadata": {},
   "outputs": [],
   "source": [
    "bins = pn.widgets.IntSlider(name='Number of bins', start=5, end=25, step=5, value=10)\n",
    "kde = pn.widgets.Checkbox(name='Show density estimate')\n",
    "observations = pn.widgets.Checkbox(name='Show individual observations')\n",
    "bandwidth = pn.widgets.FloatSlider(name='KDE Bandwidth', start=0.1, end=1)\n",
    "\n",
    "@pn.depends(bins.param.value, kde.param.value,\n",
    "            observations.param.value, bandwidth.param.value)\n",
    "def get_plot(bins, kde, obs, bw):\n",
    "    plot = sea_surface_temperature.hvplot.hist(bins=bins, normed=True, xlabel='Temperature (C)', padding=0.1)\n",
    "    if kde:\n",
    "        plot *= sea_surface_temperature.hvplot.kde().opts(bandwidth=bw)\n",
    "    if obs:\n",
    "        plot *= hv.Spikes(sea_surface_temperature, 'temperature').opts(\n",
    "            line_width=0.1, alpha=0.1, spike_length=-0.01)\n",
    "    return plot\n",
    "\n",
    "widgets = pn.WidgetBox('## Sea surface temperatures', bins, observations, kde)\n",
    "\n",
    "def add_bandwidth(event):\n",
    "    if event.new:\n",
    "        widgets.append(bandwidth)\n",
    "    else:\n",
    "        widgets.remove(bandwidth)\n",
    "\n",
    "kde.param.watch(add_bandwidth, 'value')\n",
    "\n",
    "pn.Row(widgets, get_plot).servable()"
   ]
  }
 ],
 "metadata": {
  "language_info": {
   "name": "python",
   "pygments_lexer": "ipython3"
  }
 },
 "nbformat": 4,
 "nbformat_minor": 2
}
