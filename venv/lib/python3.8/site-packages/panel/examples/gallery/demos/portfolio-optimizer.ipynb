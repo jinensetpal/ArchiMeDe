{
 "cells": [
  {
   "cell_type": "markdown",
   "metadata": {},
   "source": [
    "This app showcases a reasonably complex Portfolio Optimization tool which allows uploading a set of stocks and picking a portfolio with the desired balance between volatility and return.\n",
    "\n",
    "**Live App URL**: https://portfolio-optimizer.pyviz.demo.anaconda.com\n",
    "\n",
    "<style>\n",
    ".iframe-container {\n",
    "  overflow: hidden;\n",
    "  padding-top: 56.25%;\n",
    "  position: relative;\n",
    "  background-size: 80%;\n",
    "  background: url(https://examples.pyviz.org/_images/portfolio.png) center center no-repeat;\n",
    "}\n",
    "\n",
    ".iframe-container iframe {\n",
    "  border: 0;\n",
    "  height: 100%;\n",
    "  left: 0;\n",
    "  position: absolute;\n",
    "  top: 0;\n",
    "  width: 100%;\n",
    "}\n",
    "</style>\n",
    "\n",
    "<div class=\"iframe-container\">\n",
    "  <iframe src=\"https://portfolio-optimizer.pyviz.demo.anaconda.com\" width=\"100%\" frameborder=\"0\" onload=\"this.parentNode.style.background = 'none'\"></iframe>\n",
    "</div>"
   ]
  }
 ],
 "metadata": {
  "language_info": {
   "name": "python",
   "pygments_lexer": "ipython3"
  }
 },
 "nbformat": 4,
 "nbformat_minor": 4
}
