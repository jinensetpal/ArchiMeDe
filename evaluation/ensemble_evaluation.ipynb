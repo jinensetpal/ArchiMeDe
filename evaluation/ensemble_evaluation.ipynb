{
  "nbformat": 4,
  "nbformat_minor": 0,
  "metadata": {
    "colab": {
      "name": "evaluation.ipynb",
      "provenance": [],
      "collapsed_sections": []
    },
    "kernelspec": {
      "name": "python3",
      "display_name": "Python 3"
    }
  },
  "cells": [
    {
      "cell_type": "markdown",
      "metadata": {
        "id": "QK0zjwLQa5gq",
        "colab_type": "text"
      },
      "source": [
        "# **Minor Changes to Evaluate Ensembles -**"
      ]
    },
    {
      "cell_type": "code",
      "metadata": {
        "id": "QWPUyzkes1nh",
        "colab_type": "code",
        "colab": {}
      },
      "source": [
        "! pip install -q tensorflow numpy\n",
        "! cp drive/My\\ Drive/Colab\\ Notebooks/*.csv ./\n",
        "! cp drive/My\\ Drive/Colab\\ Notebooks/*.pkl ./\n",
        "! cp -r drive/My\\ Drive/Colab\\ Notebooks/models/ensemble ./"
      ],
      "execution_count": null,
      "outputs": []
    },
    {
      "cell_type": "code",
      "metadata": {
        "id": "2kvKNpCivlNM",
        "colab_type": "code",
        "colab": {}
      },
      "source": [
        "def ohe(map):\n",
        "  one_hot_encode = []\n",
        "  temp = df[['Visual']].values\n",
        "\n",
        "  for i in temp:\n",
        "    arr = list(np.zeros(len(map),dtype=int))\n",
        "    for j in i[0].split():\n",
        "      if j.strip(',') != '0':\n",
        "        arr[map[j.strip(',')]] = 1\n",
        "    one_hot_encode.append(arr)\n",
        "  return np.array(one_hot_encode)"
      ],
      "execution_count": null,
      "outputs": []
    },
    {
      "cell_type": "code",
      "metadata": {
        "id": "SZzp0b6BvqmF",
        "colab_type": "code",
        "colab": {}
      },
      "source": [
        "def create_map():\n",
        "  temp = df[['Visual']].values\n",
        "  counter = 0\n",
        "  map = {}\n",
        "  for i in temp:\n",
        "    for j in i[0].split():\n",
        "      if j.strip(',') not in map and j.strip(',') != '0':\n",
        "        map[j.strip(',')] = counter\n",
        "        counter += 1\n",
        "  return map"
      ],
      "execution_count": null,
      "outputs": []
    },
    {
      "cell_type": "code",
      "metadata": {
        "id": "KVKz7xt6-uq2",
        "colab_type": "code",
        "colab": {}
      },
      "source": [
        "def evaluate(model, X, y):\n",
        "  kfold = StratifiedKFold(n_splits=5).split(X, y)\n",
        "  scores = []\n",
        "  for k, (train, test) in enumerate(kfold):\n",
        "    score = model.evaluate(X[test], y[test], verbose=0)\n",
        "    print(\"%s: %.2f%%\" % (model.metrics_names[1], score[1]*100))\n",
        "    scores.append(score[1] * 100)\n",
        "    scoring((model(X[test]) > 0.5).numpy().astype(\"int32\").tolist(), y[test])\n",
        "  print(\"%.2f%% (+/- %.2f%%)\" % (np.mean(scores), np.std(scores)))"
      ],
      "execution_count": null,
      "outputs": []
    },
    {
      "cell_type": "code",
      "metadata": {
        "id": "AXpblZBi34hz",
        "colab_type": "code",
        "colab": {}
      },
      "source": [
        "def scoring(predictions, y_test):\n",
        "  fp = 0\n",
        "  tp = 0\n",
        "  fn = 0 \n",
        "  c = 0\n",
        "  incorrect = []\n",
        "\n",
        "  for pred, test in zip(predictions, y_test):\n",
        "    if pred[0] != test[0]:\n",
        "      incorrect.append(c)\n",
        "    if pred[0] == 1:\n",
        "      if pred[0] == test[0]:\n",
        "        tp += 1\n",
        "      else:\n",
        "        fp += 1\n",
        "    elif pred[0] != test[0]:\n",
        "      fn += 1\n",
        "    c += 1\n",
        "\n",
        "  print(tp, fp, fn)\n",
        "\n",
        "  precision = tp / (tp + fp)\n",
        "  recall = tp / (tp + fn)\n",
        "  f1 = 2 * precision * recall / (precision + recall)\n",
        "  print('Precision: ', precision, '\\nRecall: ', recall, '\\nF1 Score: ', f1)"
      ],
      "execution_count": null,
      "outputs": []
    },
    {
      "cell_type": "code",
      "metadata": {
        "id": "Byn0b3lFup4v",
        "colab_type": "code",
        "colab": {}
      },
      "source": [
        "from tensorflow import keras\n",
        "\n",
        "alex = keras.models.load_model('ensemble/alexnet_ffwd')\n",
        "dense = keras.models.load_model('ensemble/densenet_ffwd')\n",
        "resnet = keras.models.load_model('ensemble/resnet_ffwd')"
      ],
      "execution_count": null,
      "outputs": []
    },
    {
      "cell_type": "code",
      "metadata": {
        "id": "Cw-kSFOiupq_",
        "colab_type": "code",
        "colab": {}
      },
      "source": [
        "import pandas as pd\n",
        "\n",
        "df = pd.read_csv('dankmemes_task1_train.csv')\n",
        "embedding = pd.read_csv('dankmemes_task1_train_embeddings.csv', header=None)"
      ],
      "execution_count": null,
      "outputs": []
    },
    {
      "cell_type": "code",
      "metadata": {
        "id": "eqC7i05luuv_",
        "colab_type": "code",
        "colab": {}
      },
      "source": [
        "import numpy as np\n",
        "import pickle\n",
        "\n",
        "des_X, alex_X, res_X, y = pickle.load(open('densenest_embeddings.pkl', 'rb')), pickle.load(open('alexnet_embeddings.pkl', 'rb')), np.array([embedding[1][i].split() for i in range(1600)]).astype(float), df[['Meme']].values"
      ],
      "execution_count": null,
      "outputs": []
    },
    {
      "cell_type": "code",
      "metadata": {
        "id": "SDipTuhW60iS",
        "colab_type": "code",
        "colab": {}
      },
      "source": [
        "from sklearn.preprocessing import StandardScaler, MinMaxScaler, OneHotEncoder\n",
        "\n",
        "ssc = StandardScaler()\n",
        "mms = MinMaxScaler()"
      ],
      "execution_count": null,
      "outputs": []
    },
    {
      "cell_type": "code",
      "metadata": {
        "id": "rCTKLIXa61kE",
        "colab_type": "code",
        "colab": {
          "base_uri": "https://localhost:8080/",
          "height": 327
        },
        "outputId": "4386ae2b-f591-4737-f1d5-1fb0d7d23625"
      },
      "source": [
        "import pickle\n",
        "from datetime import date\n",
        "\n",
        "temp = mms.fit_transform(np.array([(date(int(i[0].split('-')[0]), int(i[0].split('-')[1]), int(i[0].split('-')[2])) - date(2015, 1, 1)).days for i in df[['Date']].values.tolist()]).reshape(1600, 1))\n",
        "print(temp.shape)\n",
        "des_X = np.hstack((des_X, temp))\n",
        "alex_X = np.hstack((alex_X, temp))\n",
        "res_X = np.hstack((res_X, temp))\n",
        "print(des_X.shape)\n",
        "print(alex_X.shape)\n",
        "print(res_X.shape)\n",
        "\n",
        "temp = ssc.fit_transform(df[['Engagement']].values)\n",
        "print(temp.shape)\n",
        "des_X = np.hstack((des_X, temp))\n",
        "alex_X = np.hstack((alex_X, temp))\n",
        "res_X = np.hstack((res_X, temp))\n",
        "print(des_X.shape)\n",
        "print(alex_X.shape)\n",
        "print(res_X.shape)\n",
        "\n",
        "temp = ohe(create_map())\n",
        "print(temp.shape)\n",
        "des_X = np.hstack((des_X, temp))\n",
        "alex_X = np.hstack((alex_X, temp))\n",
        "res_X = np.hstack((res_X, temp))\n",
        "print(des_X.shape)\n",
        "print(alex_X.shape)\n",
        "print(res_X.shape)\n",
        "\n",
        "temp = pickle.load(open('cls_umberto_embeddings.pkl', 'rb'))\n",
        "print(temp.shape)\n",
        "des_X = np.hstack((des_X, temp))\n",
        "alex_X = np.hstack((alex_X, temp))\n",
        "res_X = np.hstack((res_X, temp))\n",
        "print(des_X.shape)\n",
        "print(alex_X.shape)\n",
        "print(res_X.shape)"
      ],
      "execution_count": null,
      "outputs": [
        {
          "output_type": "stream",
          "text": [
            "(1600, 1)\n",
            "(1600, 1001)\n",
            "(1600, 4097)\n",
            "(1600, 2049)\n",
            "(1600, 1)\n",
            "(1600, 1002)\n",
            "(1600, 4098)\n",
            "(1600, 2050)\n",
            "(1600, 71)\n",
            "(1600, 1073)\n",
            "(1600, 4169)\n",
            "(1600, 2121)\n",
            "(1600, 768)\n",
            "(1600, 1841)\n",
            "(1600, 4937)\n",
            "(1600, 2889)\n"
          ],
          "name": "stdout"
        }
      ]
    },
    {
      "cell_type": "code",
      "metadata": {
        "id": "7T1BOSvRLH-d",
        "colab_type": "code",
        "colab": {}
      },
      "source": [
        "## Suffle Dataframe\n",
        "\n",
        "seed = np.random.randint(0, 100000)  \n",
        "\n",
        "np.random.seed(seed)\n",
        "np.random.shuffle(des_X)\n",
        "np.random.seed(seed)\n",
        "np.random.shuffle(alex_X)\n",
        "np.random.seed(seed)\n",
        "np.random.shuffle(res_X)\n",
        "np.random.seed(seed)\n",
        "np.random.shuffle(y)"
      ],
      "execution_count": null,
      "outputs": []
    },
    {
      "cell_type": "code",
      "metadata": {
        "id": "AnjFfjAwMfRd",
        "colab_type": "code",
        "colab": {}
      },
      "source": [
        "## Individual Scores\n",
        "\n",
        "import numpy as np\n",
        "from sklearn.model_selection import StratifiedKFold\n",
        "\n",
        "evaluate(alex, alex_X, y)\n",
        "evaluate(dense, des_X, y)\n",
        "evaluate(resnet, res_X, y)"
      ],
      "execution_count": null,
      "outputs": []
    },
    {
      "cell_type": "code",
      "metadata": {
        "id": "mO-63FrLr60M",
        "colab_type": "code",
        "colab": {
          "base_uri": "https://localhost:8080/",
          "height": 850
        },
        "outputId": "0064644f-2bc6-455a-bfd9-ab309e79fbe4"
      },
      "source": [
        "kfold = StratifiedKFold(n_splits=5).split(alex_X, y)\n",
        "a_sc = []\n",
        "d_sc = []\n",
        "r_sc = []\n",
        "\n",
        "for k, (train, test) in enumerate(kfold):\n",
        "  a = alex.evaluate(alex_X[test], y[test], verbose=0)\n",
        "  d = dense.evaluate(des_X[test], y[test], verbose=0)\n",
        "  r = resnet.evaluate(res_X[test], y[test], verbose=0)\n",
        "  print(\"%s: %.2f%%\" % (alex.metrics_names[1], a[1]*100))\n",
        "  print(\"%s: %.2f%%\" % (dense.metrics_names[1], d[1]*100))\n",
        "  print(\"%s: %.2f%%\" % (resnet.metrics_names[1], r[1]*100))\n",
        "  a_sc.append(a[1] * 100)\n",
        "  d_sc.append(d[1] * 100)\n",
        "  r_sc.append(r[1] * 100)\n",
        "\n",
        "  final = []\n",
        "  a = (alex(alex_X[test]) > 0.5).numpy().astype(\"int32\").tolist()\n",
        "  d = (dense(des_X[test]) > 0.5).numpy().astype(\"int32\").tolist()\n",
        "  r = (resnet(res_X[test]) > 0.5).numpy().astype(\"int32\").tolist()\n",
        "  for i in range(len(a)):\n",
        "    # print(a[i][0] + d[i][0] + r[i][0])\n",
        "    if a[i][0] + d[i][0] + r[i][0] >= 2:\n",
        "      final.append(1)\n",
        "    else:\n",
        "      final.append(0)\n",
        "  final = np.array(final)\n",
        "  final = final.reshape(final.shape[0], 1)\n",
        "  print(final.shape)\n",
        "  scoring(final, y[test])\n",
        "print(\"%.2f%% (+/- %.2f%%)\" % (np.mean(a_sc), np.std(a_sc)))\n",
        "print(\"%.2f%% (+/- %.2f%%)\" % (np.mean(d_sc), np.std(d_sc)))\n",
        "print(\"%.2f%% (+/- %.2f%%)\" % (np.mean(r_sc), np.std(r_sc)))"
      ],
      "execution_count": null,
      "outputs": [
        {
          "output_type": "stream",
          "text": [
            "binary_accuracy: 94.69%\n",
            "binary_accuracy: 90.31%\n",
            "binary_accuracy: 89.38%\n",
            "(320, 1)\n",
            "150 6 10\n",
            "Precision:  0.9615384615384616 \n",
            "Recall:  0.9375 \n",
            "F1 Score:  0.9493670886075949\n",
            "binary_accuracy: 93.75%\n",
            "binary_accuracy: 90.00%\n",
            "binary_accuracy: 89.38%\n",
            "(320, 1)\n",
            "147 7 12\n",
            "Precision:  0.9545454545454546 \n",
            "Recall:  0.9245283018867925 \n",
            "F1 Score:  0.939297124600639\n",
            "binary_accuracy: 92.19%\n",
            "binary_accuracy: 88.44%\n",
            "binary_accuracy: 85.31%\n",
            "(320, 1)\n",
            "147 11 12\n",
            "Precision:  0.930379746835443 \n",
            "Recall:  0.9245283018867925 \n",
            "F1 Score:  0.9274447949526813\n",
            "binary_accuracy: 91.87%\n",
            "binary_accuracy: 87.81%\n",
            "binary_accuracy: 87.81%\n",
            "(320, 1)\n",
            "143 9 16\n",
            "Precision:  0.9407894736842105 \n",
            "Recall:  0.89937106918239 \n",
            "F1 Score:  0.9196141479099678\n",
            "binary_accuracy: 91.56%\n",
            "binary_accuracy: 87.50%\n",
            "binary_accuracy: 82.50%\n",
            "(320, 1)\n",
            "147 16 12\n",
            "Precision:  0.901840490797546 \n",
            "Recall:  0.9245283018867925 \n",
            "F1 Score:  0.9130434782608695\n",
            "92.81% (+/- 1.20%)\n",
            "88.81% (+/- 1.14%)\n",
            "86.88% (+/- 2.64%)\n"
          ],
          "name": "stdout"
        }
      ]
    },
    {
      "cell_type": "code",
      "metadata": {
        "id": "kYUPoxfZAFVF",
        "colab_type": "code",
        "colab": {
          "base_uri": "https://localhost:8080/",
          "height": 36
        },
        "outputId": "6c3262b0-6af3-4555-b21e-83d02250e331"
      },
      "source": [
        "### Cumulative Score\n",
        "\n",
        "a = (alex(alex_X) > 0.5).numpy().astype(\"int32\").tolist()\n",
        "d = (dense(des_X) > 0.5).numpy().astype(\"int32\").tolist()\n",
        "r = (resnet(res_X) > 0.5).numpy().astype(\"int32\").tolist()\n",
        "\n",
        "final = []\n",
        "for i in range(len(a)):\n",
        "  # print(a[i][0] + d[i][0] + r[i][0])\n",
        "  if a[i][0] + d[i][0] + r[i][0] >= 2:\n",
        "    final.append(1)\n",
        "  else:\n",
        "    final.append(0)\n",
        "final = np.array(final)\n",
        "final = final.reshape(final.shape[0], 1)\n",
        "print(final.shape)"
      ],
      "execution_count": null,
      "outputs": [
        {
          "output_type": "stream",
          "text": [
            "(1600, 1)\n"
          ],
          "name": "stdout"
        }
      ]
    },
    {
      "cell_type": "code",
      "metadata": {
        "id": "hXM-H49RBhgw",
        "colab_type": "code",
        "colab": {
          "base_uri": "https://localhost:8080/",
          "height": 94
        },
        "outputId": "eeb96cc1-0e2b-49db-e7dd-b908ba932fb6"
      },
      "source": [
        "scoring(final, y)"
      ],
      "execution_count": null,
      "outputs": [
        {
          "output_type": "stream",
          "text": [
            "734 49 62\n",
            "Precision:  0.9374201787994891 \n",
            "Recall:  0.9221105527638191 \n",
            "F1 Score:  0.9297023432552248\n"
          ],
          "name": "stdout"
        }
      ]
    },
    {
      "cell_type": "code",
      "metadata": {
        "id": "YNr9q6IWCub4",
        "colab_type": "code",
        "colab": {
          "base_uri": "https://localhost:8080/",
          "height": 1000
        },
        "outputId": "f291ffe1-641a-4160-b965-e2dc219b0445"
      },
      "source": [
        "## The following are the images the ensemble got wrong; note it's shuffled from original!\n",
        "c = 0 \n",
        "for i in range(len(final)):\n",
        "  if final[i][0] == y[i][0]:\n",
        "    c += 1\n",
        "  else:\n",
        "    print(i, '-', final[i][0], y[i][0])\n",
        "print('\\nAccuracy: ' + str(c/16) + '%')"
      ],
      "execution_count": null,
      "outputs": [
        {
          "output_type": "stream",
          "text": [
            "15 - 0 1\n",
            "18 - 0 1\n",
            "53 - 0 1\n",
            "59 - 1 0\n",
            "100 - 1 0\n",
            "119 - 1 0\n",
            "120 - 0 1\n",
            "146 - 1 0\n",
            "192 - 1 0\n",
            "193 - 1 0\n",
            "215 - 0 1\n",
            "238 - 0 1\n",
            "268 - 0 1\n",
            "269 - 0 1\n",
            "271 - 0 1\n",
            "292 - 0 1\n",
            "356 - 0 1\n",
            "372 - 1 0\n",
            "381 - 1 0\n",
            "390 - 0 1\n",
            "393 - 1 0\n",
            "431 - 0 1\n",
            "436 - 0 1\n",
            "447 - 0 1\n",
            "460 - 1 0\n",
            "461 - 1 0\n",
            "467 - 1 0\n",
            "469 - 0 1\n",
            "495 - 0 1\n",
            "498 - 0 1\n",
            "519 - 0 1\n",
            "541 - 0 1\n",
            "579 - 1 0\n",
            "590 - 0 1\n",
            "597 - 0 1\n",
            "656 - 0 1\n",
            "672 - 1 0\n",
            "676 - 0 1\n",
            "682 - 0 1\n",
            "689 - 1 0\n",
            "693 - 1 0\n",
            "694 - 1 0\n",
            "696 - 1 0\n",
            "711 - 1 0\n",
            "715 - 0 1\n",
            "742 - 0 1\n",
            "744 - 1 0\n",
            "779 - 0 1\n",
            "788 - 0 1\n",
            "790 - 0 1\n",
            "837 - 0 1\n",
            "854 - 1 0\n",
            "869 - 0 1\n",
            "889 - 1 0\n",
            "892 - 1 0\n",
            "929 - 0 1\n",
            "935 - 1 0\n",
            "946 - 0 1\n",
            "967 - 1 0\n",
            "976 - 1 0\n",
            "983 - 0 1\n",
            "987 - 0 1\n",
            "1002 - 0 1\n",
            "1011 - 0 1\n",
            "1012 - 1 0\n",
            "1023 - 0 1\n",
            "1056 - 0 1\n",
            "1059 - 1 0\n",
            "1068 - 0 1\n",
            "1073 - 0 1\n",
            "1084 - 0 1\n",
            "1100 - 1 0\n",
            "1116 - 0 1\n",
            "1121 - 1 0\n",
            "1140 - 0 1\n",
            "1170 - 0 1\n",
            "1176 - 1 0\n",
            "1192 - 1 0\n",
            "1195 - 0 1\n",
            "1230 - 0 1\n",
            "1242 - 1 0\n",
            "1247 - 0 1\n",
            "1255 - 0 1\n",
            "1287 - 1 0\n",
            "1301 - 1 0\n",
            "1309 - 1 0\n",
            "1315 - 1 0\n",
            "1318 - 1 0\n",
            "1325 - 0 1\n",
            "1332 - 0 1\n",
            "1341 - 0 1\n",
            "1367 - 1 0\n",
            "1373 - 0 1\n",
            "1413 - 1 0\n",
            "1428 - 0 1\n",
            "1446 - 1 0\n",
            "1465 - 1 0\n",
            "1468 - 1 0\n",
            "1469 - 0 1\n",
            "1472 - 0 1\n",
            "1490 - 1 0\n",
            "1497 - 1 0\n",
            "1500 - 0 1\n",
            "1510 - 0 1\n",
            "1518 - 1 0\n",
            "1524 - 1 0\n",
            "1529 - 1 0\n",
            "1540 - 0 1\n",
            "1541 - 0 1\n",
            "1570 - 1 0\n",
            "1587 - 0 1\n",
            "\n",
            "Accuracy: 93.0625%\n"
          ],
          "name": "stdout"
        }
      ]
    },
    {
      "cell_type": "code",
      "metadata": {
        "id": "PCsQGNpYHGKp",
        "colab_type": "code",
        "colab": {}
      },
      "source": [
        "X_inc = []\n",
        "\n",
        "for i, val in enumerate(X):\n",
        "  for j in incorrect:\n",
        "    if np.all(X_test[j][:1000] == val[:1000]):\n",
        "      X_inc.append(i)"
      ],
      "execution_count": null,
      "outputs": []
    },
    {
      "cell_type": "code",
      "metadata": {
        "id": "LGmjBWvJKvmd",
        "colab_type": "code",
        "colab": {
          "base_uri": "https://localhost:8080/",
          "height": 56
        },
        "outputId": "42102787-b592-4a2d-c6d8-ba3b7020a59a"
      },
      "source": [
        "print(X_inc) # Incorrectly classified representative to dataset"
      ],
      "execution_count": null,
      "outputs": [
        {
          "output_type": "stream",
          "text": [
            "[22, 125, 138, 256, 260, 265, 294, 311, 332, 417, 450, 456, 462, 489, 502, 504, 520, 533, 536, 545, 566, 589, 609, 613, 622, 629, 652, 700, 708, 742, 803, 840, 851, 868, 891, 911, 993, 1018, 1058, 1071, 1072, 1104, 1121, 1163, 1172, 1219, 1224, 1240, 1266, 1336, 1339, 1357, 1373, 1403, 1448, 1470, 1472, 1509, 1513, 1519, 1588, 1598]\n"
          ],
          "name": "stdout"
        }
      ]
    }
  ]
}