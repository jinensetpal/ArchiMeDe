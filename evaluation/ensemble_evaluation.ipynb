{
  "nbformat": 4,
  "nbformat_minor": 0,
  "metadata": {
    "colab": {
      "name": "evaluation.ipynb",
      "provenance": [],
      "collapsed_sections": [],
      "toc_visible": true,
      "mount_file_id": "1Q8EOtMF1Lmnr38X0IFW9xo6yMpXFUnKB",
      "authorship_tag": "ABX9TyPNssMjQPWH/pneBgJFG649",
      "include_colab_link": true
    },
    "kernelspec": {
      "name": "python3",
      "display_name": "Python 3"
    }
  },
  "cells": [
    {
      "cell_type": "markdown",
      "metadata": {
        "id": "view-in-github",
        "colab_type": "text"
      },
      "source": [
        "<a href=\"https://colab.research.google.com/github/jinensetpal/evalita/blob/master/evaluation/ensemble_evaluation.ipynb\" target=\"_parent\"><img src=\"https://colab.research.google.com/assets/colab-badge.svg\" alt=\"Open In Colab\"/></a>"
      ]
    },
    {
      "cell_type": "markdown",
      "metadata": {
        "id": "QK0zjwLQa5gq",
        "colab_type": "text"
      },
      "source": [
        "# **Minor Changes to Evaluate Ensembles -**"
      ]
    },
    {
      "cell_type": "code",
      "metadata": {
        "id": "QWPUyzkes1nh",
        "colab_type": "code",
        "colab": {}
      },
      "source": [
        "! pip install -q tensorflow numpy\n",
        "! cp drive/My\\ Drive/Colab\\ Notebooks/*.csv ./\n",
        "! cp drive/My\\ Drive/Colab\\ Notebooks/*.pkl ./\n",
        "! cp -r drive/My\\ Drive/Colab\\ Notebooks/models/ensemble ./"
      ],
      "execution_count": 2,
      "outputs": []
    },
    {
      "cell_type": "code",
      "metadata": {
        "id": "2kvKNpCivlNM",
        "colab_type": "code",
        "colab": {}
      },
      "source": [
        "def ohe(map):\n",
        "  one_hot_encode = []\n",
        "  temp = df[['Visual']].values\n",
        "\n",
        "  for i in temp:\n",
        "    arr = list(np.zeros(len(map),dtype=int))\n",
        "    for j in i[0].split():\n",
        "      if j.strip(',') != '0':\n",
        "        arr[map[j.strip(',')]] = 1\n",
        "    one_hot_encode.append(arr)\n",
        "  return np.array(one_hot_encode)"
      ],
      "execution_count": 3,
      "outputs": []
    },
    {
      "cell_type": "code",
      "metadata": {
        "id": "SZzp0b6BvqmF",
        "colab_type": "code",
        "colab": {}
      },
      "source": [
        "def create_map():\n",
        "  temp = df[['Visual']].values\n",
        "  counter = 0\n",
        "  map = {}\n",
        "  for i in temp:\n",
        "    for j in i[0].split():\n",
        "      if j.strip(',') not in map and j.strip(',') != '0':\n",
        "        map[j.strip(',')] = counter\n",
        "        counter += 1\n",
        "  return map"
      ],
      "execution_count": 4,
      "outputs": []
    },
    {
      "cell_type": "code",
      "metadata": {
        "id": "KVKz7xt6-uq2",
        "colab_type": "code",
        "colab": {}
      },
      "source": [
        "def evaluate(model, X, y):\n",
        "  kfold = StratifiedKFold(n_splits=5).split(X, y)\n",
        "  scores = []\n",
        "  for k, (train, test) in enumerate(kfold):\n",
        "    score = model.evaluate(X[test], y[test], verbose=0)\n",
        "    print(\"%s: %.2f%%\" % (model.metrics_names[1], score[1]*100))\n",
        "    scores.append(score[1] * 100)\n",
        "    scoring((model(X[test]) > 0.5).numpy().astype(\"int32\").tolist(), y[test])\n",
        "  print(\"%.2f%% (+/- %.2f%%)\" % (np.mean(scores), np.std(scores)))"
      ],
      "execution_count": 5,
      "outputs": []
    },
    {
      "cell_type": "code",
      "metadata": {
        "id": "AXpblZBi34hz",
        "colab_type": "code",
        "colab": {}
      },
      "source": [
        "def scoring(predictions, y_test):\n",
        "  fp = 0\n",
        "  tp = 0\n",
        "  fn = 0 \n",
        "  c = 0\n",
        "  incorrect = []\n",
        "\n",
        "  for pred, test in zip(predictions, y_test):\n",
        "    if pred[0] != test[0]:\n",
        "      incorrect.append(c)\n",
        "    if pred[0] == 1:\n",
        "      if pred[0] == test[0]:\n",
        "        tp += 1\n",
        "      else:\n",
        "        fp += 1\n",
        "    elif pred[0] != test[0]:\n",
        "      fn += 1\n",
        "    c += 1\n",
        "\n",
        "  print(tp, fp, fn)\n",
        "\n",
        "  precision = tp / (tp + fp)\n",
        "  recall = tp / (tp + fn)\n",
        "  f1 = 2 * precision * recall / (precision + recall)\n",
        "  print('Precision: ', precision, '\\nRecall: ', recall, '\\nF1 Score: ', f1)\n",
        "  \n",
        "  return precision, recall, f1"
      ],
      "execution_count": 68,
      "outputs": []
    },
    {
      "cell_type": "code",
      "metadata": {
        "id": "YNr9q6IWCub4",
        "colab_type": "code",
        "colab": {}
      },
      "source": [
        "## The following are the images the ensemble got wrong; note it's shuffled from original!\n",
        "def calc_inc(pred, y):\n",
        "  inc = []\n",
        "  c = 0\n",
        "  for i in range(len(pred)):\n",
        "    if pred[i][0] == y[i][0]:\n",
        "      c += 1\n",
        "    else:\n",
        "      print(i, '-', pred[i][0], y[i][0])\n",
        "      inc.append(i)\n",
        "  print('\\nAccuracy: ' + str(c / len(pred) * 100) + '%')\n",
        "  return inc"
      ],
      "execution_count": 15,
      "outputs": []
    },
    {
      "cell_type": "code",
      "metadata": {
        "id": "ENiNRN4pJd08",
        "colab_type": "code",
        "colab": {}
      },
      "source": [
        "def ensemble_calc(a, d, r):\n",
        "  final = []\n",
        "  for i in range(len(a)):\n",
        "    if a[i][0] + d[i][0] + r[i][0] >= 2:\n",
        "      final.append(1)\n",
        "    else:\n",
        "      final.append(0)\n",
        "  final = np.array(final)\n",
        "  final = final.reshape(final.shape[0], 1)\n",
        "  return final"
      ],
      "execution_count": 64,
      "outputs": []
    },
    {
      "cell_type": "code",
      "metadata": {
        "id": "Byn0b3lFup4v",
        "colab_type": "code",
        "colab": {}
      },
      "source": [
        "from tensorflow import keras\n",
        "\n",
        "alex = keras.models.load_model('ensemble/alexnet_ffwd')\n",
        "dense = keras.models.load_model('ensemble/densenet_ffwd')\n",
        "resnet = keras.models.load_model('ensemble/resnet_ffwd')"
      ],
      "execution_count": 7,
      "outputs": []
    },
    {
      "cell_type": "code",
      "metadata": {
        "id": "Cw-kSFOiupq_",
        "colab_type": "code",
        "colab": {}
      },
      "source": [
        "import pandas as pd\n",
        "\n",
        "df = pd.read_csv('dankmemes_task1_train.csv')\n",
        "embedding = pd.read_csv('dankmemes_task1_train_embeddings.csv', header=None)"
      ],
      "execution_count": 8,
      "outputs": []
    },
    {
      "cell_type": "code",
      "metadata": {
        "id": "eqC7i05luuv_",
        "colab_type": "code",
        "colab": {}
      },
      "source": [
        "import numpy as np\n",
        "import pickle\n",
        "\n",
        "des_X, alex_X, res_X, y = pickle.load(open('densenest_embeddings.pkl', 'rb')), pickle.load(open('alexnet_embeddings.pkl', 'rb')), np.array([embedding[1][i].split() for i in range(1600)]).astype(float), df[['Meme']].values"
      ],
      "execution_count": 9,
      "outputs": []
    },
    {
      "cell_type": "code",
      "metadata": {
        "id": "SDipTuhW60iS",
        "colab_type": "code",
        "colab": {}
      },
      "source": [
        "from sklearn.preprocessing import StandardScaler, MinMaxScaler, OneHotEncoder\n",
        "\n",
        "ssc = StandardScaler()\n",
        "mms = MinMaxScaler()"
      ],
      "execution_count": 10,
      "outputs": []
    },
    {
      "cell_type": "code",
      "metadata": {
        "id": "rCTKLIXa61kE",
        "colab_type": "code",
        "colab": {
          "base_uri": "https://localhost:8080/",
          "height": 324
        },
        "outputId": "36377e0f-347c-4c1c-d47f-c361096ab60c"
      },
      "source": [
        "import pickle\n",
        "from datetime import date\n",
        "\n",
        "temp = mms.fit_transform(np.array([(date(int(i[0].split('-')[0]), int(i[0].split('-')[1]), int(i[0].split('-')[2])) - date(2015, 1, 1)).days for i in df[['Date']].values.tolist()]).reshape(1600, 1))\n",
        "print(temp.shape)\n",
        "des_X = np.hstack((des_X, temp))\n",
        "alex_X = np.hstack((alex_X, temp))\n",
        "res_X = np.hstack((res_X, temp))\n",
        "print(des_X.shape)\n",
        "print(alex_X.shape)\n",
        "print(res_X.shape)\n",
        "\n",
        "temp = ssc.fit_transform(df[['Engagement']].values)\n",
        "print(temp.shape)\n",
        "des_X = np.hstack((des_X, temp))\n",
        "alex_X = np.hstack((alex_X, temp))\n",
        "res_X = np.hstack((res_X, temp))\n",
        "print(des_X.shape)\n",
        "print(alex_X.shape)\n",
        "print(res_X.shape)\n",
        "\n",
        "temp = ohe(create_map())\n",
        "print(temp.shape)\n",
        "des_X = np.hstack((des_X, temp))\n",
        "alex_X = np.hstack((alex_X, temp))\n",
        "res_X = np.hstack((res_X, temp))\n",
        "print(des_X.shape)\n",
        "print(alex_X.shape)\n",
        "print(res_X.shape)\n",
        "\n",
        "temp = pickle.load(open('cls_umberto_embeddings.pkl', 'rb'))\n",
        "print(temp.shape)\n",
        "des_X = np.hstack((des_X, temp))\n",
        "alex_X = np.hstack((alex_X, temp))\n",
        "res_X = np.hstack((res_X, temp))\n",
        "print(des_X.shape)\n",
        "print(alex_X.shape)\n",
        "print(res_X.shape)"
      ],
      "execution_count": 11,
      "outputs": [
        {
          "output_type": "stream",
          "text": [
            "(1600, 1)\n",
            "(1600, 1001)\n",
            "(1600, 4097)\n",
            "(1600, 2049)\n",
            "(1600, 1)\n",
            "(1600, 1002)\n",
            "(1600, 4098)\n",
            "(1600, 2050)\n",
            "(1600, 71)\n",
            "(1600, 1073)\n",
            "(1600, 4169)\n",
            "(1600, 2121)\n",
            "(1600, 768)\n",
            "(1600, 1841)\n",
            "(1600, 4937)\n",
            "(1600, 2889)\n"
          ],
          "name": "stdout"
        }
      ]
    },
    {
      "cell_type": "code",
      "metadata": {
        "id": "y0vdplmI8tLX",
        "colab_type": "code",
        "colab": {}
      },
      "source": [
        "from sklearn.model_selection import train_test_split\n",
        "\n",
        "res_X_train, res_X_test, res_y_train, res_y_test = train_test_split(res_X, y, test_size=0.2, stratify=y, random_state=42)\n",
        "des_X_train, des_X_test, des_y_train, des_y_test = train_test_split(des_X, y, test_size=0.2, stratify=y, random_state=42)\n",
        "alex_X_train, alex_X_test, alex_y_train, alex_y_test = train_test_split(alex_X, y, test_size=0.2, stratify=y, random_state=42)"
      ],
      "execution_count": 25,
      "outputs": []
    },
    {
      "cell_type": "code",
      "metadata": {
        "id": "uBownZ2p9r5w",
        "colab_type": "code",
        "colab": {
          "base_uri": "https://localhost:8080/",
          "height": 36
        },
        "outputId": "efb764a3-6a0e-49be-f7b7-3e4091266ac1"
      },
      "source": [
        "### Cumulative Score\n",
        "\n",
        "a = (alex(alex_X_test) > 0.5).numpy().astype(\"int32\").tolist()\n",
        "d = (dense(des_X_test) > 0.5).numpy().astype(\"int32\").tolist()\n",
        "r = (resnet(res_X_test) > 0.5).numpy().astype(\"int32\").tolist()\n",
        "final = ensemble_calc(a, d, r)"
      ],
      "execution_count": 41,
      "outputs": [
        {
          "output_type": "stream",
          "text": [
            "(320, 1)\n"
          ],
          "name": "stdout"
        }
      ]
    },
    {
      "cell_type": "code",
      "metadata": {
        "id": "RMB3WElABZH_",
        "colab_type": "code",
        "colab": {
          "base_uri": "https://localhost:8080/",
          "height": 1000
        },
        "outputId": "7cdf0c3a-f539-4235-cda2-fe642db8a6bc"
      },
      "source": [
        "from sklearn.metrics import classification_report\n",
        "\n",
        "a_inc = calc_inc((alex(alex_X_test) > 0.5).numpy().astype(\"int32\"), alex_y_test)\n",
        "d_inc = calc_inc((dense(des_X_test) > 0.5).numpy().astype(\"int32\"), alex_y_test)\n",
        "r_inc = calc_inc((resnet(res_X_test) > 0.5).numpy().astype(\"int32\"), alex_y_test)\n",
        "f_inc = calc_inc(final, alex_y_test)"
      ],
      "execution_count": 27,
      "outputs": [
        {
          "output_type": "stream",
          "text": [
            "9 - 1 0\n",
            "15 - 1 0\n",
            "16 - 1 0\n",
            "18 - 1 0\n",
            "21 - 1 0\n",
            "23 - 1 0\n",
            "25 - 0 1\n",
            "27 - 0 1\n",
            "36 - 0 1\n",
            "41 - 0 1\n",
            "61 - 0 1\n",
            "64 - 1 0\n",
            "65 - 1 0\n",
            "73 - 1 0\n",
            "74 - 1 0\n",
            "79 - 0 1\n",
            "88 - 0 1\n",
            "93 - 0 1\n",
            "95 - 0 1\n",
            "98 - 1 0\n",
            "101 - 0 1\n",
            "122 - 1 0\n",
            "126 - 1 0\n",
            "133 - 1 0\n",
            "138 - 0 1\n",
            "139 - 1 0\n",
            "157 - 1 0\n",
            "158 - 1 0\n",
            "162 - 0 1\n",
            "163 - 0 1\n",
            "167 - 1 0\n",
            "175 - 1 0\n",
            "177 - 0 1\n",
            "185 - 1 0\n",
            "186 - 1 0\n",
            "189 - 1 0\n",
            "194 - 0 1\n",
            "196 - 1 0\n",
            "200 - 1 0\n",
            "201 - 0 1\n",
            "202 - 1 0\n",
            "204 - 1 0\n",
            "211 - 0 1\n",
            "212 - 1 0\n",
            "216 - 1 0\n",
            "217 - 1 0\n",
            "221 - 1 0\n",
            "229 - 1 0\n",
            "235 - 0 1\n",
            "244 - 1 0\n",
            "246 - 1 0\n",
            "247 - 1 0\n",
            "248 - 1 0\n",
            "249 - 1 0\n",
            "252 - 0 1\n",
            "256 - 1 0\n",
            "265 - 1 0\n",
            "271 - 0 1\n",
            "273 - 0 1\n",
            "286 - 0 1\n",
            "289 - 1 0\n",
            "293 - 0 1\n",
            "294 - 1 0\n",
            "295 - 1 0\n",
            "317 - 0 1\n",
            "\n",
            "Accuracy: 79.6875%\n",
            "9 - 1 0\n",
            "11 - 1 0\n",
            "15 - 1 0\n",
            "33 - 0 1\n",
            "54 - 0 1\n",
            "61 - 0 1\n",
            "64 - 1 0\n",
            "65 - 1 0\n",
            "74 - 1 0\n",
            "77 - 1 0\n",
            "79 - 0 1\n",
            "82 - 0 1\n",
            "84 - 1 0\n",
            "94 - 1 0\n",
            "95 - 0 1\n",
            "102 - 1 0\n",
            "103 - 0 1\n",
            "122 - 1 0\n",
            "123 - 1 0\n",
            "124 - 0 1\n",
            "125 - 0 1\n",
            "126 - 1 0\n",
            "131 - 1 0\n",
            "133 - 1 0\n",
            "138 - 0 1\n",
            "145 - 0 1\n",
            "157 - 1 0\n",
            "162 - 0 1\n",
            "169 - 1 0\n",
            "176 - 0 1\n",
            "180 - 1 0\n",
            "184 - 1 0\n",
            "185 - 1 0\n",
            "186 - 1 0\n",
            "187 - 1 0\n",
            "198 - 0 1\n",
            "202 - 1 0\n",
            "203 - 1 0\n",
            "214 - 0 1\n",
            "239 - 0 1\n",
            "248 - 1 0\n",
            "250 - 1 0\n",
            "252 - 0 1\n",
            "265 - 1 0\n",
            "271 - 0 1\n",
            "292 - 1 0\n",
            "303 - 0 1\n",
            "316 - 1 0\n",
            "317 - 0 1\n",
            "\n",
            "Accuracy: 84.6875%\n",
            "1 - 0 1\n",
            "2 - 0 1\n",
            "14 - 0 1\n",
            "15 - 1 0\n",
            "16 - 1 0\n",
            "25 - 0 1\n",
            "26 - 0 1\n",
            "27 - 0 1\n",
            "28 - 0 1\n",
            "33 - 0 1\n",
            "36 - 0 1\n",
            "61 - 0 1\n",
            "64 - 1 0\n",
            "79 - 0 1\n",
            "81 - 0 1\n",
            "84 - 1 0\n",
            "88 - 0 1\n",
            "93 - 0 1\n",
            "94 - 1 0\n",
            "97 - 0 1\n",
            "103 - 0 1\n",
            "118 - 0 1\n",
            "121 - 1 0\n",
            "124 - 0 1\n",
            "131 - 1 0\n",
            "134 - 0 1\n",
            "145 - 0 1\n",
            "155 - 1 0\n",
            "156 - 0 1\n",
            "157 - 1 0\n",
            "168 - 0 1\n",
            "172 - 0 1\n",
            "175 - 1 0\n",
            "183 - 0 1\n",
            "186 - 1 0\n",
            "194 - 0 1\n",
            "196 - 1 0\n",
            "198 - 0 1\n",
            "200 - 1 0\n",
            "201 - 0 1\n",
            "202 - 1 0\n",
            "212 - 1 0\n",
            "221 - 1 0\n",
            "226 - 0 1\n",
            "246 - 1 0\n",
            "248 - 1 0\n",
            "252 - 0 1\n",
            "256 - 1 0\n",
            "261 - 0 1\n",
            "271 - 0 1\n",
            "274 - 0 1\n",
            "276 - 1 0\n",
            "281 - 1 0\n",
            "293 - 0 1\n",
            "296 - 1 0\n",
            "310 - 0 1\n",
            "311 - 0 1\n",
            "317 - 0 1\n",
            "\n",
            "Accuracy: 81.875%\n",
            "9 - 1 0\n",
            "15 - 1 0\n",
            "16 - 1 0\n",
            "25 - 0 1\n",
            "27 - 0 1\n",
            "33 - 0 1\n",
            "36 - 0 1\n",
            "61 - 0 1\n",
            "64 - 1 0\n",
            "65 - 1 0\n",
            "74 - 1 0\n",
            "79 - 0 1\n",
            "84 - 1 0\n",
            "88 - 0 1\n",
            "93 - 0 1\n",
            "94 - 1 0\n",
            "95 - 0 1\n",
            "103 - 0 1\n",
            "122 - 1 0\n",
            "124 - 0 1\n",
            "126 - 1 0\n",
            "131 - 1 0\n",
            "133 - 1 0\n",
            "138 - 0 1\n",
            "145 - 0 1\n",
            "157 - 1 0\n",
            "162 - 0 1\n",
            "175 - 1 0\n",
            "185 - 1 0\n",
            "186 - 1 0\n",
            "194 - 0 1\n",
            "196 - 1 0\n",
            "198 - 0 1\n",
            "200 - 1 0\n",
            "201 - 0 1\n",
            "202 - 1 0\n",
            "212 - 1 0\n",
            "221 - 1 0\n",
            "246 - 1 0\n",
            "248 - 1 0\n",
            "252 - 0 1\n",
            "256 - 1 0\n",
            "265 - 1 0\n",
            "271 - 0 1\n",
            "293 - 0 1\n",
            "317 - 0 1\n",
            "\n",
            "Accuracy: 85.625%\n"
          ],
          "name": "stdout"
        }
      ]
    },
    {
      "cell_type": "code",
      "metadata": {
        "id": "ZKrTAERfUGDr",
        "colab_type": "code",
        "colab": {}
      },
      "source": [
        "tot = {}\n",
        "c = 0"
      ],
      "execution_count": 28,
      "outputs": []
    },
    {
      "cell_type": "code",
      "metadata": {
        "id": "Uqq3W4qwUWN4",
        "colab_type": "code",
        "colab": {}
      },
      "source": [
        "for i in a_inc + d_inc + r_inc:\n",
        "  if i not in tot:\n",
        "    tot[i] = 1\n",
        "  else:\n",
        "    tot[i] += 1"
      ],
      "execution_count": 29,
      "outputs": []
    },
    {
      "cell_type": "code",
      "metadata": {
        "id": "aaTJo5mTUpGP",
        "colab_type": "code",
        "colab": {
          "base_uri": "https://localhost:8080/",
          "height": 900
        },
        "outputId": "262e67ce-5caa-41c8-d3fb-8fcd03731381"
      },
      "source": [
        "for i in tot:\n",
        "  if tot[i] > 1:\n",
        "    print(i, '-', tot[i])\n",
        "    c += 1"
      ],
      "execution_count": 30,
      "outputs": [
        {
          "output_type": "stream",
          "text": [
            "9 - 2\n",
            "15 - 3\n",
            "16 - 2\n",
            "25 - 2\n",
            "27 - 2\n",
            "36 - 2\n",
            "61 - 3\n",
            "64 - 3\n",
            "65 - 2\n",
            "74 - 2\n",
            "79 - 3\n",
            "88 - 2\n",
            "93 - 2\n",
            "95 - 2\n",
            "122 - 2\n",
            "126 - 2\n",
            "133 - 2\n",
            "138 - 2\n",
            "157 - 3\n",
            "162 - 2\n",
            "175 - 2\n",
            "185 - 2\n",
            "186 - 3\n",
            "194 - 2\n",
            "196 - 2\n",
            "200 - 2\n",
            "201 - 2\n",
            "202 - 3\n",
            "212 - 2\n",
            "221 - 2\n",
            "246 - 2\n",
            "248 - 3\n",
            "252 - 3\n",
            "256 - 2\n",
            "265 - 2\n",
            "271 - 3\n",
            "293 - 2\n",
            "317 - 3\n",
            "33 - 2\n",
            "84 - 2\n",
            "94 - 2\n",
            "103 - 2\n",
            "124 - 2\n",
            "131 - 2\n",
            "145 - 2\n",
            "198 - 2\n"
          ],
          "name": "stdout"
        }
      ]
    },
    {
      "cell_type": "code",
      "metadata": {
        "id": "WfImwfSHV8yE",
        "colab_type": "code",
        "colab": {
          "base_uri": "https://localhost:8080/",
          "height": 36
        },
        "outputId": "30f30ce1-8d83-48e7-94e5-02bc5b79cc4e"
      },
      "source": [
        "print(c) ## no of incorrectly predicted files from testing dataset"
      ],
      "execution_count": 31,
      "outputs": [
        {
          "output_type": "stream",
          "text": [
            "46\n"
          ],
          "name": "stdout"
        }
      ]
    },
    {
      "cell_type": "code",
      "metadata": {
        "id": "7T1BOSvRLH-d",
        "colab_type": "code",
        "colab": {}
      },
      "source": [
        "## Suffle Dataframe\n",
        "\n",
        "seed = np.random.randint(0, 100000)  \n",
        "\n",
        "np.random.seed(seed)\n",
        "np.random.shuffle(des_X)\n",
        "np.random.seed(seed)\n",
        "np.random.shuffle(alex_X)\n",
        "np.random.seed(seed)\n",
        "np.random.shuffle(res_X)\n",
        "np.random.seed(seed)\n",
        "np.random.shuffle(y)"
      ],
      "execution_count": 32,
      "outputs": []
    },
    {
      "cell_type": "code",
      "metadata": {
        "id": "AnjFfjAwMfRd",
        "colab_type": "code",
        "colab": {
          "base_uri": "https://localhost:8080/",
          "height": 77
        },
        "outputId": "75ed899c-7adf-440d-cc89-c30cb68d985d"
      },
      "source": [
        "## Individual Scores\n",
        "\n",
        "import numpy as np\n",
        "from sklearn.model_selection import StratifiedKFold\n",
        "from sklearn.metrics import classification_report\n",
        "\n",
        "classification_report((alex(alex_X) > 0.5).numpy().astype(\"int32\"), y)\n",
        "classification_report((dense(des_X) > 0.5).numpy().astype(\"int32\"), y)\n",
        "classification_report((resnet(res_X) > 0.5).numpy().astype(\"int32\"), y)\n",
        "\n",
        "# evaluate(alex, alex_X, y)\n",
        "# evaluate(dense, des_X, y)\n",
        "# evaluate(resnet, res_X, y)"
      ],
      "execution_count": 49,
      "outputs": [
        {
          "output_type": "execute_result",
          "data": {
            "application/vnd.google.colaboratory.intrinsic+json": {
              "type": "string"
            },
            "text/plain": [
              "'              precision    recall  f1-score   support\\n\\n           0       0.92      0.83      0.88       892\\n           1       0.81      0.91      0.86       708\\n\\n    accuracy                           0.87      1600\\n   macro avg       0.87      0.87      0.87      1600\\nweighted avg       0.87      0.87      0.87      1600\\n'"
            ]
          },
          "metadata": {
            "tags": []
          },
          "execution_count": 49
        }
      ]
    },
    {
      "cell_type": "markdown",
      "metadata": {
        "id": "LVbbgM4CtNhy",
        "colab_type": "text"
      },
      "source": [
        "```\n",
        "AlexNet - \n",
        "              precision    recall  f1-score   support\n",
        "\n",
        "           0       0.93      0.93      0.93       799\n",
        "           1       0.93      0.93      0.93       801\n",
        "\n",
        "    accuracy                           0.93      1600\n",
        "   macro avg       0.93      0.93      0.93      1600\n",
        "weighted avg       0.93      0.93      0.93      1600\n",
        "\n",
        "DenseNet - \n",
        "              precision    recall  f1-score   support\n",
        "\n",
        "           0       0.87      0.90      0.89       773\n",
        "           1       0.91      0.87      0.89       827\n",
        "\n",
        "    accuracy                           0.89      1600\n",
        "   macro avg       0.89      0.89      0.89      1600\n",
        "weighted avg       0.89      0.89      0.89      1600\n",
        "\n",
        "Resnet -\n",
        "              precision    recall  f1-score   support\n",
        "\n",
        "           0       0.92      0.83      0.88       892\n",
        "           1       0.81      0.91      0.86       708\n",
        "\n",
        "    accuracy                           0.87      1600\n",
        "   macro avg       0.87      0.87      0.87      1600\n",
        "weighted avg       0.87      0.87      0.87      1600\n",
        "\n",
        "Overall -\n",
        "              precision    recall  f1-score   support\n",
        "\n",
        "           0       0.84      0.87      0.86       157\n",
        "           1       0.87      0.85      0.86       163\n",
        "\n",
        "    accuracy                           0.86       320\n",
        "   macro avg       0.86      0.86      0.86       320\n",
        "weighted avg       0.86      0.86      0.86       320\n",
        "```\n",
        "\n"
      ]
    },
    {
      "cell_type": "code",
      "metadata": {
        "id": "mO-63FrLr60M",
        "colab_type": "code",
        "colab": {
          "base_uri": "https://localhost:8080/",
          "height": 1000
        },
        "outputId": "81fe4d28-d34d-49f9-98e7-4b0617a4146d"
      },
      "source": [
        "kfold = StratifiedKFold(n_splits=5).split(alex_X_test, alex_y_test) ## Since dataframe numbers are only shifted, varied df calls can be made\n",
        "\n",
        "pres = []\n",
        "rec = []\n",
        "f1 = []\n",
        "\n",
        "for k, (train, test) in enumerate(kfold):\n",
        "  a = (alex(alex_X_test[test]) > 0.5).numpy().astype(\"int32\").tolist()\n",
        "  d = (dense(des_X_test[test]) > 0.5).numpy().astype(\"int32\").tolist()\n",
        "  r = (resnet(res_X_test[test]) > 0.5).numpy().astype(\"int32\").tolist()\n",
        "\n",
        "  final = ensemble_calc(a, d, r)\n",
        "  d_inc = calc_inc(final, alex_y_test[test])\n",
        "  f_p, f_r, f_f1 = scoring(final, alex_y_test[test])\n",
        "  pres.append(f_p)\n",
        "  rec.append(f_r)\n",
        "  f1.append(f_f1)\n",
        "  print()\n",
        "\n",
        "print(\"Precision: %.2f (+/- %.2f)\" % (np.mean(pres), np.std(pres)))\n",
        "print(\"Recall: %.2f (+/- %.2f)\" % (np.mean(rec), np.std(rec)))\n",
        "print(\"F1 Score: %.2f (+/- %.2f)\" % (np.mean(f1), np.std(f1)))"
      ],
      "execution_count": 77,
      "outputs": [
        {
          "output_type": "stream",
          "text": [
            "9 - 1 0\n",
            "15 - 1 0\n",
            "16 - 1 0\n",
            "25 - 0 1\n",
            "27 - 0 1\n",
            "33 - 0 1\n",
            "36 - 0 1\n",
            "61 - 0 1\n",
            "\n",
            "Accuracy: 87.5%\n",
            "27 3 5\n",
            "Precision:  0.9 \n",
            "Recall:  0.84375 \n",
            "F1 Score:  0.870967741935484\n",
            "\n",
            "1 - 1 0\n",
            "2 - 1 0\n",
            "10 - 1 0\n",
            "15 - 0 1\n",
            "20 - 1 0\n",
            "24 - 0 1\n",
            "29 - 0 1\n",
            "30 - 1 0\n",
            "31 - 0 1\n",
            "39 - 0 1\n",
            "58 - 1 0\n",
            "60 - 1 0\n",
            "62 - 1 0\n",
            "63 - 1 0\n",
            "\n",
            "Accuracy: 78.125%\n",
            "27 9 5\n",
            "Precision:  0.75 \n",
            "Recall:  0.84375 \n",
            "F1 Score:  0.7941176470588235\n",
            "\n",
            "0 - 0 1\n",
            "10 - 0 1\n",
            "17 - 0 1\n",
            "29 - 1 0\n",
            "34 - 0 1\n",
            "47 - 1 0\n",
            "57 - 1 0\n",
            "58 - 1 0\n",
            "\n",
            "Accuracy: 87.5%\n",
            "28 4 4\n",
            "Precision:  0.875 \n",
            "Recall:  0.875 \n",
            "F1 Score:  0.875\n",
            "\n",
            "2 - 0 1\n",
            "4 - 1 0\n",
            "6 - 0 1\n",
            "8 - 1 0\n",
            "9 - 0 1\n",
            "10 - 1 0\n",
            "20 - 1 0\n",
            "29 - 1 0\n",
            "54 - 1 0\n",
            "56 - 1 0\n",
            "60 - 0 1\n",
            "\n",
            "Accuracy: 82.8125%\n",
            "28 7 4\n",
            "Precision:  0.8 \n",
            "Recall:  0.875 \n",
            "F1 Score:  0.8358208955223881\n",
            "\n",
            "1 - 1 0\n",
            "9 - 1 0\n",
            "15 - 0 1\n",
            "37 - 0 1\n",
            "61 - 0 1\n",
            "\n",
            "Accuracy: 92.1875%\n",
            "28 2 3\n",
            "Precision:  0.9333333333333333 \n",
            "Recall:  0.9032258064516129 \n",
            "F1 Score:  0.9180327868852459\n",
            "\n",
            "Precision: 0.85 (+/- 0.07)\n",
            "Recall: 0.87 (+/- 0.02)\n",
            "F1 Score: 0.86 (+/- 0.04)\n"
          ],
          "name": "stdout"
        }
      ]
    },
    {
      "cell_type": "code",
      "metadata": {
        "id": "kYUPoxfZAFVF",
        "colab_type": "code",
        "colab": {
          "base_uri": "https://localhost:8080/",
          "height": 36
        },
        "outputId": "41e8d832-1a56-49fd-f18e-060f9c28dbec"
      },
      "source": [
        "### Cumulative Score\n",
        "\n",
        "a = (alex(alex_X) > 0.5).numpy().astype(\"int32\").tolist()\n",
        "d = (dense(des_X) > 0.5).numpy().astype(\"int32\").tolist()\n",
        "r = (resnet(res_X) > 0.5).numpy().astype(\"int32\").tolist()\n",
        "\n",
        "final = []\n",
        "for i in range(len(a)):\n",
        "  # print(a[i][0] + d[i][0] + r[i][0])\n",
        "  if a[i][0] + d[i][0] + r[i][0] >= 2:\n",
        "    final.append(1)\n",
        "  else:\n",
        "    final.append(0)\n",
        "final = np.array(final)\n",
        "final = final.reshape(final.shape[0], 1)\n",
        "print(final.shape)"
      ],
      "execution_count": 35,
      "outputs": [
        {
          "output_type": "stream",
          "text": [
            "(1600, 1)\n"
          ],
          "name": "stdout"
        }
      ]
    },
    {
      "cell_type": "code",
      "metadata": {
        "id": "hXM-H49RBhgw",
        "colab_type": "code",
        "colab": {
          "base_uri": "https://localhost:8080/",
          "height": 94
        },
        "outputId": "40e979cc-9963-43e4-96f9-02677a660dac"
      },
      "source": [
        "scoring(final, y) # For total data; data leaked & deprecated!!"
      ],
      "execution_count": 36,
      "outputs": [
        {
          "output_type": "stream",
          "text": [
            "734 49 62\n",
            "Precision:  0.9374201787994891 \n",
            "Recall:  0.9221105527638191 \n",
            "F1 Score:  0.9297023432552248\n"
          ],
          "name": "stdout"
        }
      ]
    },
    {
      "cell_type": "code",
      "metadata": {
        "id": "PCsQGNpYHGKp",
        "colab_type": "code",
        "colab": {}
      },
      "source": [
        "X_inc = []\n",
        "\n",
        "for i, val in enumerate(X):\n",
        "  for j in incorrect:\n",
        "    if np.all(X_test[j][:1000] == val[:1000]):\n",
        "      X_inc.append(i)"
      ],
      "execution_count": null,
      "outputs": []
    },
    {
      "cell_type": "code",
      "metadata": {
        "id": "LGmjBWvJKvmd",
        "colab_type": "code",
        "colab": {
          "base_uri": "https://localhost:8080/",
          "height": 56
        },
        "outputId": "42102787-b592-4a2d-c6d8-ba3b7020a59a"
      },
      "source": [
        "print(X_inc) # Incorrectly classified representative to dataset"
      ],
      "execution_count": null,
      "outputs": [
        {
          "output_type": "stream",
          "text": [
            "[22, 125, 138, 256, 260, 265, 294, 311, 332, 417, 450, 456, 462, 489, 502, 504, 520, 533, 536, 545, 566, 589, 609, 613, 622, 629, 652, 700, 708, 742, 803, 840, 851, 868, 891, 911, 993, 1018, 1058, 1071, 1072, 1104, 1121, 1163, 1172, 1219, 1224, 1240, 1266, 1336, 1339, 1357, 1373, 1403, 1448, 1470, 1472, 1509, 1513, 1519, 1588, 1598]\n"
          ],
          "name": "stdout"
        }
      ]
    }
  ]
}