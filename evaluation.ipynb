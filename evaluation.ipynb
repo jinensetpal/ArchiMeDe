{
  "nbformat": 4,
  "nbformat_minor": 0,
  "metadata": {
    "colab": {
      "name": "evaluation.ipynb",
      "provenance": [],
      "collapsed_sections": []
    },
    "kernelspec": {
      "name": "python3",
      "display_name": "Python 3"
    }
  },
  "cells": [
    {
      "cell_type": "code",
      "metadata": {
        "id": "QWPUyzkes1nh",
        "colab_type": "code",
        "colab": {}
      },
      "source": [
        "! pip install -q tensorflow numpy\n",
        "! cp drive/My\\ Drive/Colab\\ Notebooks/*.csv ./\n",
        "! cp drive/My\\ Drive/Colab\\ Notebooks/*.pkl ./\n",
        "! cp -r drive/My\\ Drive/Colab\\ Notebooks/models/aaaumberto_feedforward ./"
      ],
      "execution_count": 9,
      "outputs": []
    },
    {
      "cell_type": "code",
      "metadata": {
        "id": "2kvKNpCivlNM",
        "colab_type": "code",
        "colab": {}
      },
      "source": [
        "def ohe(map):\n",
        "  one_hot_encode = []\n",
        "  temp = df[['Visual']].values\n",
        "\n",
        "  for i in temp:\n",
        "    arr = list(np.zeros(len(map),dtype=int))\n",
        "    for j in i[0].split():\n",
        "      if j.strip(',') != '0':\n",
        "        arr[map[j.strip(',')]] = 1\n",
        "    one_hot_encode.append(arr)\n",
        "  return np.array(one_hot_encode)"
      ],
      "execution_count": 2,
      "outputs": []
    },
    {
      "cell_type": "code",
      "metadata": {
        "id": "SZzp0b6BvqmF",
        "colab_type": "code",
        "colab": {}
      },
      "source": [
        "def create_map():\n",
        "  temp = df[['Visual']].values\n",
        "  counter = 0\n",
        "  map = {}\n",
        "  for i in temp:\n",
        "    for j in i[0].split():\n",
        "      if j.strip(',') not in map and j.strip(',') != '0':\n",
        "        map[j.strip(',')] = counter\n",
        "        counter += 1\n",
        "  return map"
      ],
      "execution_count": 3,
      "outputs": []
    },
    {
      "cell_type": "code",
      "metadata": {
        "id": "Byn0b3lFup4v",
        "colab_type": "code",
        "colab": {}
      },
      "source": [
        "from tensorflow import keras\n",
        "\n",
        "model = keras.models.load_model('aaaumberto_feedforward')"
      ],
      "execution_count": 4,
      "outputs": []
    },
    {
      "cell_type": "code",
      "metadata": {
        "id": "Cw-kSFOiupq_",
        "colab_type": "code",
        "colab": {}
      },
      "source": [
        "import pandas as pd\n",
        "\n",
        "df = pd.read_csv('dankmemes_task1_train.csv')\n",
        "embedding = pd.read_csv('dankmemes_task1_train_embeddings.csv', header=None)"
      ],
      "execution_count": 10,
      "outputs": []
    },
    {
      "cell_type": "code",
      "metadata": {
        "id": "eqC7i05luuv_",
        "colab_type": "code",
        "colab": {}
      },
      "source": [
        "import numpy as np\n",
        "\n",
        "X, y = np.array([embedding[1][i].split() for i in range(1600)]).astype(float), df[['Meme']].values"
      ],
      "execution_count": 11,
      "outputs": []
    },
    {
      "cell_type": "code",
      "metadata": {
        "id": "EeDfGi_Avf6o",
        "colab_type": "code",
        "colab": {}
      },
      "source": [
        "from sklearn.preprocessing import StandardScaler, MinMaxScaler, OneHotEncoder\n",
        "\n",
        "ssc = StandardScaler()\n",
        "mms = MinMaxScaler()"
      ],
      "execution_count": 12,
      "outputs": []
    },
    {
      "cell_type": "code",
      "metadata": {
        "id": "mDpqdIIxvc52",
        "colab_type": "code",
        "colab": {
          "base_uri": "https://localhost:8080/",
          "height": 171
        },
        "outputId": "f46992d2-bc54-4ab3-af86-8c35d91c89f0"
      },
      "source": [
        "import pickle\n",
        "from datetime import date\n",
        "\n",
        "temp = mms.fit_transform(np.array([(date(int(i[0].split('-')[0]), int(i[0].split('-')[1]), int(i[0].split('-')[2])) - date(2015, 1, 1)).days for i in df[['Date']].values.tolist()]).reshape(1600, 1))\n",
        "print(temp.shape)\n",
        "X = np.hstack((X, temp))\n",
        "print(X.shape)\n",
        "\n",
        "temp = ssc.fit_transform(df[['Engagement']].values)\n",
        "print(temp.shape)\n",
        "X = np.hstack((X, temp))\n",
        "print(X.shape)\n",
        "\n",
        "temp = ohe(create_map())\n",
        "print(temp.shape)\n",
        "X = np.hstack((X, temp))\n",
        "print(X.shape)\n",
        "\n",
        "temp = pickle.load(open('umberto_embeddings.pkl', 'rb'))\n",
        "print(temp.shape)\n",
        "X = np.hstack((X, temp))\n",
        "print(X.shape)"
      ],
      "execution_count": 13,
      "outputs": [
        {
          "output_type": "stream",
          "text": [
            "(1600, 1)\n",
            "(1600, 2049)\n",
            "(1600, 1)\n",
            "(1600, 2050)\n",
            "(1600, 71)\n",
            "(1600, 2121)\n",
            "(1600, 768)\n",
            "(1600, 2889)\n"
          ],
          "name": "stdout"
        }
      ]
    },
    {
      "cell_type": "code",
      "metadata": {
        "id": "6dGxDIn-uwKz",
        "colab_type": "code",
        "colab": {
          "base_uri": "https://localhost:8080/",
          "height": 36
        },
        "outputId": "1ae90043-1782-47a7-aebe-8b75ffb9d6ec"
      },
      "source": [
        "test_loss, test_acc = model.evaluate(X_test, y_test)"
      ],
      "execution_count": 41,
      "outputs": [
        {
          "output_type": "stream",
          "text": [
            "10/10 [==============================] - 0s 7ms/step - loss: 0.7137 - binary_accuracy: 0.8188\n"
          ],
          "name": "stdout"
        }
      ]
    },
    {
      "cell_type": "code",
      "metadata": {
        "id": "YRmxWAnUFtAY",
        "colab_type": "code",
        "colab": {}
      },
      "source": [
        "X_test = pickle.load(open('X_test.pkl', 'rb'))\n",
        "y_test = pickle.load(open('y_test.pkl', 'rb'))"
      ],
      "execution_count": 40,
      "outputs": []
    },
    {
      "cell_type": "code",
      "metadata": {
        "id": "NtN_0AjTF0Na",
        "colab_type": "code",
        "colab": {}
      },
      "source": [
        "predictions = model.predict_classes(X_test, verbose=0)"
      ],
      "execution_count": 42,
      "outputs": []
    },
    {
      "cell_type": "code",
      "metadata": {
        "id": "AXpblZBi34hz",
        "colab_type": "code",
        "colab": {
          "base_uri": "https://localhost:8080/",
          "height": 36
        },
        "outputId": "69dde618-0280-4ee9-f843-823b6978671e"
      },
      "source": [
        "fp = 0\n",
        "tp = 0\n",
        "fn = 0 \n",
        "c = 0\n",
        "incorrect = []\n",
        "\n",
        "for pred, test in zip(predictions, y_test):\n",
        "  if pred[0] != test[0]:\n",
        "    incorrect.append(c)\n",
        "  if pred[0] == 1:\n",
        "    if pred[0] == test[0]:\n",
        "      tp += 1\n",
        "    else:\n",
        "      fp += 1\n",
        "  elif pred[0] != test[0]:\n",
        "    fn += 1\n",
        "  c += 1\n",
        "\n",
        "print(tp, fp, fn)"
      ],
      "execution_count": 46,
      "outputs": [
        {
          "output_type": "stream",
          "text": [
            "145 44 14\n"
          ],
          "name": "stdout"
        }
      ]
    },
    {
      "cell_type": "code",
      "metadata": {
        "id": "_7unu8Al9-E3",
        "colab_type": "code",
        "colab": {}
      },
      "source": [
        "precision = tp / (tp + fp)\n",
        "recall = tp / (tp + fn)\n",
        "f1 = 2 * precision * recall / (precision + recall)"
      ],
      "execution_count": 26,
      "outputs": []
    },
    {
      "cell_type": "code",
      "metadata": {
        "id": "jKG2eZ-4-6tx",
        "colab_type": "code",
        "colab": {
          "base_uri": "https://localhost:8080/",
          "height": 75
        },
        "outputId": "7eb35063-9ef9-477d-ee54-529bb25ff663"
      },
      "source": [
        "print('Precision: ', precision, '\\nRecall: ', recall, '\\nF1 Score: ', f1)"
      ],
      "execution_count": 27,
      "outputs": [
        {
          "output_type": "stream",
          "text": [
            "Precision:  0.7671957671957672 \n",
            "Recall:  0.9119496855345912 \n",
            "F1 Score:  0.8333333333333334\n"
          ],
          "name": "stdout"
        }
      ]
    },
    {
      "cell_type": "code",
      "metadata": {
        "id": "VDYGyzkAHRl5",
        "colab_type": "code",
        "colab": {
          "base_uri": "https://localhost:8080/",
          "height": 75
        },
        "outputId": "683c9e25-4940-4868-ddd4-b77c5492c865"
      },
      "source": [
        "print(incorrect)\n",
        "print(len(incorrect))"
      ],
      "execution_count": 48,
      "outputs": [
        {
          "output_type": "stream",
          "text": [
            "[0, 8, 11, 19, 21, 24, 40, 46, 47, 50, 52, 59, 60, 63, 67, 69, 80, 97, 101, 106, 113, 120, 123, 124, 125, 129, 138, 140, 149, 156, 164, 166, 168, 184, 191, 203, 209, 210, 214, 216, 218, 225, 228, 230, 237, 241, 254, 262, 271, 276, 281, 284, 291, 297, 304, 306, 310, 311]\n",
            "58\n"
          ],
          "name": "stdout"
        }
      ]
    },
    {
      "cell_type": "code",
      "metadata": {
        "id": "PCsQGNpYHGKp",
        "colab_type": "code",
        "colab": {}
      },
      "source": [
        "X_inc = []\n",
        "\n",
        "for i, val in enumerate(X):\n",
        "  for j in incorrect:\n",
        "    if np.all(X_test[j][:1000] == val[:1000]):\n",
        "      X_inc.append(i)"
      ],
      "execution_count": 69,
      "outputs": []
    },
    {
      "cell_type": "code",
      "metadata": {
        "id": "LGmjBWvJKvmd",
        "colab_type": "code",
        "colab": {
          "base_uri": "https://localhost:8080/",
          "height": 56
        },
        "outputId": "b6ae52e7-c35b-4ee0-e232-cb33ed163417"
      },
      "source": [
        "print(X_inc)"
      ],
      "execution_count": 71,
      "outputs": [
        {
          "output_type": "stream",
          "text": [
            "[50, 52, 55, 68, 71, 75, 94, 125, 138, 145, 178, 203, 228, 232, 263, 280, 287, 292, 310, 332, 335, 347, 359, 402, 406, 419, 427, 469, 470, 478, 504, 510, 540, 609, 665, 670, 703, 712, 732, 746, 762, 775, 828, 844, 847, 956, 1003, 1094, 1130, 1209, 1238, 1351, 1371, 1391, 1505, 1559, 1591, 1598]\n"
          ],
          "name": "stdout"
        }
      ]
    }
  ]
}