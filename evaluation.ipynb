{
  "nbformat": 4,
  "nbformat_minor": 0,
  "metadata": {
    "colab": {
      "name": "evaluation.ipynb",
      "provenance": [],
      "collapsed_sections": []
    },
    "kernelspec": {
      "name": "python3",
      "display_name": "Python 3"
    }
  },
  "cells": [
    {
      "cell_type": "code",
      "metadata": {
        "id": "QWPUyzkes1nh",
        "colab_type": "code",
        "colab": {}
      },
      "source": [
        "! pip install -q tensorflow numpy\n",
        "! cp drive/My\\ Drive/Colab\\ Notebooks/*.csv ./\n",
        "! cp drive/My\\ Drive/Colab\\ Notebooks/*.pkl ./\n",
        "! cp -r drive/My\\ Drive/Colab\\ Notebooks/models/ensemble* ./"
      ],
      "execution_count": 1,
      "outputs": []
    },
    {
      "cell_type": "code",
      "metadata": {
        "id": "2kvKNpCivlNM",
        "colab_type": "code",
        "colab": {}
      },
      "source": [
        "def ohe(map):\n",
        "  one_hot_encode = []\n",
        "  temp = df[['Visual']].values\n",
        "\n",
        "  for i in temp:\n",
        "    arr = list(np.zeros(len(map),dtype=int))\n",
        "    for j in i[0].split():\n",
        "      if j.strip(',') != '0':\n",
        "        arr[map[j.strip(',')]] = 1\n",
        "    one_hot_encode.append(arr)\n",
        "  return np.array(one_hot_encode)"
      ],
      "execution_count": 2,
      "outputs": []
    },
    {
      "cell_type": "code",
      "metadata": {
        "id": "SZzp0b6BvqmF",
        "colab_type": "code",
        "colab": {}
      },
      "source": [
        "def create_map():\n",
        "  temp = df[['Visual']].values\n",
        "  counter = 0\n",
        "  map = {}\n",
        "  for i in temp:\n",
        "    for j in i[0].split():\n",
        "      if j.strip(',') not in map and j.strip(',') != '0':\n",
        "        map[j.strip(',')] = counter\n",
        "        counter += 1\n",
        "  return map"
      ],
      "execution_count": 3,
      "outputs": []
    },
    {
      "cell_type": "code",
      "metadata": {
        "id": "AXpblZBi34hz",
        "colab_type": "code",
        "colab": {}
      },
      "source": [
        "def scoring(predictions, y_test):\n",
        "  fp = 0\n",
        "  tp = 0\n",
        "  fn = 0 \n",
        "  c = 0\n",
        "  incorrect = []\n",
        "\n",
        "  for pred, test in zip(predictions, y_test):\n",
        "    if pred[0] != test[0]:\n",
        "      incorrect.append(c)\n",
        "    if pred[0] == 1:\n",
        "      if pred[0] == test[0]:\n",
        "        tp += 1\n",
        "      else:\n",
        "        fp += 1\n",
        "    elif pred[0] != test[0]:\n",
        "      fn += 1\n",
        "    c += 1\n",
        "\n",
        "  print(tp, fp, fn)\n",
        "\n",
        "  precision = tp / (tp + fp)\n",
        "  recall = tp / (tp + fn)\n",
        "  f1 = 2 * precision * recall / (precision + recall)\n",
        "  print('Precision: ', precision, '\\nRecall: ', recall, '\\nF1 Score: ', f1)"
      ],
      "execution_count": 25,
      "outputs": []
    },
    {
      "cell_type": "code",
      "metadata": {
        "id": "Byn0b3lFup4v",
        "colab_type": "code",
        "colab": {}
      },
      "source": [
        "from tensorflow import keras\n",
        "\n",
        "model = keras.models.load_model('ensemble_3')"
      ],
      "execution_count": 4,
      "outputs": []
    },
    {
      "cell_type": "code",
      "metadata": {
        "id": "Cw-kSFOiupq_",
        "colab_type": "code",
        "colab": {}
      },
      "source": [
        "import pandas as pd\n",
        "\n",
        "df = pd.read_csv('dankmemes_task1_train.csv')"
      ],
      "execution_count": 5,
      "outputs": []
    },
    {
      "cell_type": "code",
      "metadata": {
        "id": "eqC7i05luuv_",
        "colab_type": "code",
        "colab": {}
      },
      "source": [
        "import numpy as np\n",
        "import pickle\n",
        "import os\n",
        "\n",
        "X, y = pickle.load(open('X.pkl', 'rb')), df[['Meme']].values"
      ],
      "execution_count": 6,
      "outputs": []
    },
    {
      "cell_type": "code",
      "metadata": {
        "id": "7T1BOSvRLH-d",
        "colab_type": "code",
        "colab": {}
      },
      "source": [
        "## Suffle Dataframe\n",
        "\n",
        "seed = np.random.randint(0, 100000)  \n",
        "\n",
        "np.random.seed(seed)  \n",
        "np.random.shuffle(X)  \n",
        "np.random.seed(seed)  \n",
        "np.random.shuffle(y)"
      ],
      "execution_count": 9,
      "outputs": []
    },
    {
      "cell_type": "code",
      "metadata": {
        "id": "AnjFfjAwMfRd",
        "colab_type": "code",
        "colab": {
          "base_uri": "https://localhost:8080/",
          "height": 521
        },
        "outputId": "6438b836-a9a4-43ac-b410-9a55b4c7de35"
      },
      "source": [
        "import numpy as np\n",
        "from sklearn.model_selection import StratifiedKFold\n",
        "\n",
        "kfold = StratifiedKFold(n_splits=5).split(X, y)\n",
        "scores = []\n",
        "for k, (train, test) in enumerate(kfold):\n",
        "  score = model.evaluate(X[test], y[test], verbose=0)\n",
        "  print(\"%s: %.2f%%\" % (model.metrics_names[1], score[1]*100))\n",
        "  scores.append(score[1] * 100)\n",
        "  scoring((model(X[test]) > 0.5).numpy().astype(\"int32\").tolist(), y[test])\n",
        "print(\"%.2f%% (+/- %.2f%%)\" % (np.mean(scores), np.std(scores)))"
      ],
      "execution_count": 29,
      "outputs": [
        {
          "output_type": "stream",
          "text": [
            "binary_accuracy: 78.44%\n",
            "153 63 6\n",
            "Precision:  0.7083333333333334 \n",
            "Recall:  0.9622641509433962 \n",
            "F1 Score:  0.816\n",
            "binary_accuracy: 83.44%\n",
            "153 47 6\n",
            "Precision:  0.765 \n",
            "Recall:  0.9622641509433962 \n",
            "F1 Score:  0.852367688022284\n",
            "binary_accuracy: 79.69%\n",
            "154 60 5\n",
            "Precision:  0.719626168224299 \n",
            "Recall:  0.9685534591194969 \n",
            "F1 Score:  0.8257372654155496\n",
            "binary_accuracy: 83.75%\n",
            "156 49 3\n",
            "Precision:  0.7609756097560976 \n",
            "Recall:  0.9811320754716981 \n",
            "F1 Score:  0.8571428571428572\n",
            "binary_accuracy: 79.06%\n",
            "153 60 7\n",
            "Precision:  0.7183098591549296 \n",
            "Recall:  0.95625 \n",
            "F1 Score:  0.8203753351206435\n",
            "80.87% (+/- 2.26%)\n"
          ],
          "name": "stdout"
        }
      ]
    },
    {
      "cell_type": "code",
      "metadata": {
        "id": "PCsQGNpYHGKp",
        "colab_type": "code",
        "colab": {}
      },
      "source": [
        "X_inc = []\n",
        "\n",
        "for i, val in enumerate(X):\n",
        "  for j in incorrect:\n",
        "    if np.all(X_test[j][:1000] == val[:1000]):\n",
        "      X_inc.append(i)"
      ],
      "execution_count": null,
      "outputs": []
    },
    {
      "cell_type": "code",
      "metadata": {
        "id": "LGmjBWvJKvmd",
        "colab_type": "code",
        "colab": {
          "base_uri": "https://localhost:8080/",
          "height": 56
        },
        "outputId": "42102787-b592-4a2d-c6d8-ba3b7020a59a"
      },
      "source": [
        "print(X_inc)"
      ],
      "execution_count": null,
      "outputs": [
        {
          "output_type": "stream",
          "text": [
            "[22, 125, 138, 256, 260, 265, 294, 311, 332, 417, 450, 456, 462, 489, 502, 504, 520, 533, 536, 545, 566, 589, 609, 613, 622, 629, 652, 700, 708, 742, 803, 840, 851, 868, 891, 911, 993, 1018, 1058, 1071, 1072, 1104, 1121, 1163, 1172, 1219, 1224, 1240, 1266, 1336, 1339, 1357, 1373, 1403, 1448, 1470, 1472, 1509, 1513, 1519, 1588, 1598]\n"
          ],
          "name": "stdout"
        }
      ]
    }
  ]
}