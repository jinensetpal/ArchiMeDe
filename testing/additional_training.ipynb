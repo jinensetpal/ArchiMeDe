{
  "nbformat": 4,
  "nbformat_minor": 0,
  "metadata": {
    "colab": {
      "name": "additional_training.ipynb",
      "provenance": [],
      "collapsed_sections": []
    },
    "kernelspec": {
      "name": "python3",
      "display_name": "Python 3"
    }
  },
  "cells": [
    {
      "cell_type": "code",
      "metadata": {
        "id": "QWPUyzkes1nh",
        "colab_type": "code",
        "colab": {}
      },
      "source": [
        "! pip install -q tensorflow numpy\n",
        "! cp drive/My\\ Drive/Colab\\ Notebooks/*.csv ./\n",
        "! cp drive/My\\ Drive/Colab\\ Notebooks/*.pkl ./\n",
        "! cp -r drive/My\\ Drive/Colab\\ Notebooks/models/ensemble ./"
      ],
      "execution_count": 1,
      "outputs": []
    },
    {
      "cell_type": "code",
      "metadata": {
        "id": "2kvKNpCivlNM",
        "colab_type": "code",
        "colab": {}
      },
      "source": [
        "def ohe(map):\n",
        "  one_hot_encode = []\n",
        "  temp = df[['Visual']].values\n",
        "\n",
        "  for i in temp:\n",
        "    arr = list(np.zeros(len(map),dtype=int))\n",
        "    for j in i[0].split():\n",
        "      if j.strip(',') != '0':\n",
        "        arr[map[j.strip(',')]] = 1\n",
        "    one_hot_encode.append(arr)\n",
        "  return np.array(one_hot_encode)"
      ],
      "execution_count": 2,
      "outputs": []
    },
    {
      "cell_type": "code",
      "metadata": {
        "id": "SZzp0b6BvqmF",
        "colab_type": "code",
        "colab": {}
      },
      "source": [
        "def create_map():\n",
        "  temp = df[['Visual']].values\n",
        "  counter = 0\n",
        "  map = {}\n",
        "  for i in temp:\n",
        "    for j in i[0].split():\n",
        "      if j.strip(',') not in map and j.strip(',') != '0':\n",
        "        map[j.strip(',')] = counter\n",
        "        counter += 1\n",
        "  return map"
      ],
      "execution_count": 3,
      "outputs": []
    },
    {
      "cell_type": "code",
      "metadata": {
        "id": "DbonqTr4-Za3",
        "colab_type": "code",
        "colab": {}
      },
      "source": [
        "def ds_from_df(df, shuffle=True, batch_size=32):\n",
        "  dataframe = dataframe.copy()\n",
        "  labels = dataframe.pop('Meme')\n",
        "  ds = tf.data.Dataset.from_tensor_slices((dict(dataframe), labels))\n",
        "  if shuffle:\n",
        "    ds = ds.shuffle(buffer_size=len(dataframe))\n",
        "  ds = ds.batch(batch_size)\n",
        "  return ds"
      ],
      "execution_count": 4,
      "outputs": []
    },
    {
      "cell_type": "code",
      "metadata": {
        "id": "Byn0b3lFup4v",
        "colab_type": "code",
        "colab": {}
      },
      "source": [
        "from tensorflow import keras\n",
        "\n",
        "alex = keras.models.load_model('ensemble/alexnet_ffwd')\n",
        "dense = keras.models.load_model('ensemble/densenet_ffwd')\n",
        "resnet = keras.models.load_model('ensemble/resnet_ffwd')"
      ],
      "execution_count": 5,
      "outputs": []
    },
    {
      "cell_type": "code",
      "metadata": {
        "id": "Cw-kSFOiupq_",
        "colab_type": "code",
        "colab": {}
      },
      "source": [
        "import pandas as pd\n",
        "\n",
        "df = pd.read_csv('dankmemes_task1_train.csv')\n",
        "embedding = pd.read_csv('dankmemes_task1_train_embeddings.csv', header=None)"
      ],
      "execution_count": 6,
      "outputs": []
    },
    {
      "cell_type": "code",
      "metadata": {
        "id": "eqC7i05luuv_",
        "colab_type": "code",
        "colab": {}
      },
      "source": [
        "import numpy as np\n",
        "import pickle\n",
        "\n",
        "des_X, alex_X, res_X, y = pickle.load(open('densenest_embeddings.pkl', 'rb')), pickle.load(open('alexnet_embeddings.pkl', 'rb')), np.array([embedding[1][i].split() for i in range(1600)]).astype(float), df[['Meme']].values"
      ],
      "execution_count": 7,
      "outputs": []
    },
    {
      "cell_type": "code",
      "metadata": {
        "id": "SDipTuhW60iS",
        "colab_type": "code",
        "colab": {}
      },
      "source": [
        "from sklearn.preprocessing import StandardScaler, MinMaxScaler, OneHotEncoder\n",
        "\n",
        "ssc = StandardScaler()\n",
        "mms = MinMaxScaler()"
      ],
      "execution_count": 8,
      "outputs": []
    },
    {
      "cell_type": "code",
      "metadata": {
        "id": "rCTKLIXa61kE",
        "colab_type": "code",
        "colab": {
          "base_uri": "https://localhost:8080/",
          "height": 324
        },
        "outputId": "6cc08edc-514a-4235-e662-3992d2938c8b"
      },
      "source": [
        "import pickle\n",
        "from datetime import date\n",
        "\n",
        "temp = mms.fit_transform(np.array([(date(int(i[0].split('-')[0]), int(i[0].split('-')[1]), int(i[0].split('-')[2])) - date(2015, 1, 1)).days for i in df[['Date']].values.tolist()]).reshape(1600, 1))\n",
        "print(temp.shape)\n",
        "des_X = np.hstack((des_X, temp))\n",
        "alex_X = np.hstack((alex_X, temp))\n",
        "res_X = np.hstack((res_X, temp))\n",
        "print(des_X.shape)\n",
        "print(alex_X.shape)\n",
        "print(res_X.shape)\n",
        "\n",
        "temp = ssc.fit_transform(df[['Engagement']].values)\n",
        "print(temp.shape)\n",
        "des_X = np.hstack((des_X, temp))\n",
        "alex_X = np.hstack((alex_X, temp))\n",
        "res_X = np.hstack((res_X, temp))\n",
        "print(des_X.shape)\n",
        "print(alex_X.shape)\n",
        "print(res_X.shape)\n",
        "\n",
        "temp = ohe(create_map())\n",
        "print(temp.shape)\n",
        "des_X = np.hstack((des_X, temp))\n",
        "alex_X = np.hstack((alex_X, temp))\n",
        "res_X = np.hstack((res_X, temp))\n",
        "print(des_X.shape)\n",
        "print(alex_X.shape)\n",
        "print(res_X.shape)\n",
        "\n",
        "temp = pickle.load(open('cls_umberto_embeddings.pkl', 'rb'))\n",
        "print(temp.shape)\n",
        "des_X = np.hstack((des_X, temp))\n",
        "alex_X = np.hstack((alex_X, temp))\n",
        "res_X = np.hstack((res_X, temp))\n",
        "print(des_X.shape)\n",
        "print(alex_X.shape)\n",
        "print(res_X.shape)"
      ],
      "execution_count": 9,
      "outputs": [
        {
          "output_type": "stream",
          "text": [
            "(1600, 1)\n",
            "(1600, 1001)\n",
            "(1600, 4097)\n",
            "(1600, 2049)\n",
            "(1600, 1)\n",
            "(1600, 1002)\n",
            "(1600, 4098)\n",
            "(1600, 2050)\n",
            "(1600, 71)\n",
            "(1600, 1073)\n",
            "(1600, 4169)\n",
            "(1600, 2121)\n",
            "(1600, 768)\n",
            "(1600, 1841)\n",
            "(1600, 4937)\n",
            "(1600, 2889)\n"
          ],
          "name": "stdout"
        }
      ]
    },
    {
      "cell_type": "code",
      "metadata": {
        "id": "y0vdplmI8tLX",
        "colab_type": "code",
        "colab": {}
      },
      "source": [
        "from sklearn.model_selection import train_test_split\n",
        "\n",
        "res_X_train, res_X_test, res_y_train, res_y_test = train_test_split(res_X, y, test_size=0.2, stratify=y, random_state=42)\n",
        "des_X_train, des_X_test, des_y_train, des_y_test = train_test_split(des_X, y, test_size=0.2, stratify=y, random_state=42)\n",
        "alex_X_train, alex_X_test, alex_y_train, alex_y_test = train_test_split(alex_X, y, test_size=0.2, stratify=y, random_state=42)"
      ],
      "execution_count": 10,
      "outputs": []
    },
    {
      "cell_type": "code",
      "metadata": {
        "id": "FgDNoC-a9yth",
        "colab_type": "code",
        "colab": {}
      },
      "source": [
        "buffer_size = 10000\n",
        "batch_size = 64\n",
        "num_epochs = 10"
      ],
      "execution_count": 11,
      "outputs": []
    },
    {
      "cell_type": "code",
      "metadata": {
        "id": "6-QcRZIX-X3F",
        "colab_type": "code",
        "colab": {}
      },
      "source": [
        "from sklearn.model_selection import train_test_split\n",
        "import tensorflow as tf\n",
        "\n",
        "ds_res = tf.data.Dataset.from_tensor_slices((res_X_test, res_y_test))\n",
        "ds_res = ds_res.shuffle(buffer_size=buffer_size,\n",
        "                            reshuffle_each_iteration=False)\n",
        "ds_res = ds_res.batch(batch_size)\n",
        "\n",
        "ds_des = tf.data.Dataset.from_tensor_slices((des_X_test, des_y_test))\n",
        "ds_des = ds_des.shuffle(buffer_size=buffer_size,\n",
        "                            reshuffle_each_iteration=False)\n",
        "ds_des = ds_des.batch(batch_size)\n",
        "\n",
        "ds_alex = tf.data.Dataset.from_tensor_slices((alex_X_test, alex_y_test))\n",
        "ds_alex = ds_alex.shuffle(buffer_size=buffer_size,\n",
        "                            reshuffle_each_iteration=False)\n",
        "ds_alex = ds_alex.batch(batch_size)"
      ],
      "execution_count": 12,
      "outputs": []
    },
    {
      "cell_type": "code",
      "metadata": {
        "id": "Q7txUetH-dTV",
        "colab_type": "code",
        "colab": {
          "base_uri": "https://localhost:8080/",
          "height": 1000
        },
        "outputId": "c68c09f4-f7a4-41b3-8026-3c8d7c7753f7"
      },
      "source": [
        "# del a, d, r\n",
        "\n",
        "a = alex.fit(ds_alex,\n",
        "             epochs=num_epochs,\n",
        "             batch_size=batch_size,\n",
        "             use_multiprocessing=True)\n",
        "\n",
        "d = dense.fit(ds_des,\n",
        "              epochs=num_epochs,\n",
        "              batch_size=batch_size,\n",
        "              use_multiprocessing=True)\n",
        "              \n",
        "r = resnet.fit(ds_res,\n",
        "               epochs=num_epochs,\n",
        "               batch_size=batch_size,\n",
        "               use_multiprocessing=True)"
      ],
      "execution_count": 13,
      "outputs": [
        {
          "output_type": "stream",
          "text": [
            "Epoch 1/10\n",
            "5/5 [==============================] - 0s 60ms/step - loss: 0.7099 - binary_accuracy: 0.7344\n",
            "Epoch 2/10\n",
            "5/5 [==============================] - 0s 47ms/step - loss: 0.3551 - binary_accuracy: 0.8781\n",
            "Epoch 3/10\n",
            "5/5 [==============================] - 0s 46ms/step - loss: 0.2218 - binary_accuracy: 0.9375\n",
            "Epoch 4/10\n",
            "5/5 [==============================] - 0s 49ms/step - loss: 0.0991 - binary_accuracy: 0.9656\n",
            "Epoch 5/10\n",
            "5/5 [==============================] - 0s 48ms/step - loss: 0.0452 - binary_accuracy: 0.9812\n",
            "Epoch 6/10\n",
            "5/5 [==============================] - 0s 47ms/step - loss: 0.0166 - binary_accuracy: 0.9906\n",
            "Epoch 7/10\n",
            "5/5 [==============================] - 0s 46ms/step - loss: 0.0181 - binary_accuracy: 0.9937\n",
            "Epoch 8/10\n",
            "5/5 [==============================] - 0s 48ms/step - loss: 0.0245 - binary_accuracy: 0.9906\n",
            "Epoch 9/10\n",
            "5/5 [==============================] - 0s 46ms/step - loss: 0.0055 - binary_accuracy: 0.9969\n",
            "Epoch 10/10\n",
            "5/5 [==============================] - 0s 45ms/step - loss: 0.0055 - binary_accuracy: 0.9969\n",
            "Epoch 1/10\n",
            "5/5 [==============================] - 0s 26ms/step - loss: 0.7491 - binary_accuracy: 0.7406\n",
            "Epoch 2/10\n",
            "5/5 [==============================] - 0s 26ms/step - loss: 0.4895 - binary_accuracy: 0.7844\n",
            "Epoch 3/10\n",
            "5/5 [==============================] - 0s 26ms/step - loss: 0.4562 - binary_accuracy: 0.8062\n",
            "Epoch 4/10\n",
            "5/5 [==============================] - 0s 28ms/step - loss: 0.4040 - binary_accuracy: 0.8250\n",
            "Epoch 5/10\n",
            "5/5 [==============================] - 0s 25ms/step - loss: 0.3636 - binary_accuracy: 0.8156\n",
            "Epoch 6/10\n",
            "5/5 [==============================] - 0s 30ms/step - loss: 0.3332 - binary_accuracy: 0.8375\n",
            "Epoch 7/10\n",
            "5/5 [==============================] - 0s 26ms/step - loss: 0.2886 - binary_accuracy: 0.8906\n",
            "Epoch 8/10\n",
            "5/5 [==============================] - 0s 25ms/step - loss: 0.2393 - binary_accuracy: 0.9187\n",
            "Epoch 9/10\n",
            "5/5 [==============================] - 0s 25ms/step - loss: 0.2351 - binary_accuracy: 0.9031\n",
            "Epoch 10/10\n",
            "5/5 [==============================] - 0s 25ms/step - loss: 0.1898 - binary_accuracy: 0.9250\n",
            "Epoch 1/10\n",
            "5/5 [==============================] - 0s 39ms/step - loss: 0.6106 - binary_accuracy: 0.7625\n",
            "Epoch 2/10\n",
            "5/5 [==============================] - 0s 33ms/step - loss: 0.4206 - binary_accuracy: 0.8188\n",
            "Epoch 3/10\n",
            "5/5 [==============================] - 0s 32ms/step - loss: 0.3949 - binary_accuracy: 0.8438\n",
            "Epoch 4/10\n",
            "5/5 [==============================] - 0s 31ms/step - loss: 0.3620 - binary_accuracy: 0.8500\n",
            "Epoch 5/10\n",
            "5/5 [==============================] - 0s 32ms/step - loss: 0.3208 - binary_accuracy: 0.8656\n",
            "Epoch 6/10\n",
            "5/5 [==============================] - 0s 32ms/step - loss: 0.2905 - binary_accuracy: 0.8750\n",
            "Epoch 7/10\n",
            "5/5 [==============================] - 0s 33ms/step - loss: 0.2541 - binary_accuracy: 0.8969\n",
            "Epoch 8/10\n",
            "5/5 [==============================] - 0s 31ms/step - loss: 0.2306 - binary_accuracy: 0.9094\n",
            "Epoch 9/10\n",
            "5/5 [==============================] - 0s 31ms/step - loss: 0.1940 - binary_accuracy: 0.9281\n",
            "Epoch 10/10\n",
            "5/5 [==============================] - 0s 32ms/step - loss: 0.1712 - binary_accuracy: 0.9312\n"
          ],
          "name": "stdout"
        }
      ]
    },
    {
      "cell_type": "code",
      "metadata": {
        "id": "gL9F7rgH8auk",
        "colab_type": "code",
        "colab": {
          "base_uri": "https://localhost:8080/",
          "height": 210
        },
        "outputId": "348c027b-5d4c-46cb-d9cf-a09622778742"
      },
      "source": [
        "alex.save('models/ensemble_eval/alexnet_ffwd')\n",
        "dense.save('models/ensemble_eval/densenet_ffwd')\n",
        "resnet.save('models/ensemble_eval/resnet_ffwd')"
      ],
      "execution_count": 14,
      "outputs": [
        {
          "output_type": "stream",
          "text": [
            "WARNING:tensorflow:From /usr/local/lib/python3.6/dist-packages/tensorflow/python/training/tracking/tracking.py:111: Model.state_updates (from tensorflow.python.keras.engine.training) is deprecated and will be removed in a future version.\n",
            "Instructions for updating:\n",
            "This property should not be used in TensorFlow 2.0, as updates are applied automatically.\n",
            "WARNING:tensorflow:From /usr/local/lib/python3.6/dist-packages/tensorflow/python/training/tracking/tracking.py:111: Layer.updates (from tensorflow.python.keras.engine.base_layer) is deprecated and will be removed in a future version.\n",
            "Instructions for updating:\n",
            "This property should not be used in TensorFlow 2.0, as updates are applied automatically.\n",
            "INFO:tensorflow:Assets written to: models/ensemble_eval/alexnet_ffwd/assets\n",
            "INFO:tensorflow:Assets written to: models/ensemble_eval/densenet_ffwd/assets\n",
            "INFO:tensorflow:Assets written to: models/ensemble_eval/resnet_ffwd/assets\n"
          ],
          "name": "stdout"
        }
      ]
    },
    {
      "cell_type": "code",
      "metadata": {
        "id": "JGeLetuh8v4n",
        "colab_type": "code",
        "colab": {}
      },
      "source": [
        "! cp -r models ./drive/My\\ Drive/Colab\\ Notebooks/"
      ],
      "execution_count": 15,
      "outputs": []
    }
  ]
}